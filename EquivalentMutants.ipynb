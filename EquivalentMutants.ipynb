{
 "cells": [
  {
   "cell_type": "code",
   "execution_count": 15,
   "metadata": {
    "vscode": {
     "languageId": "r"
    }
   },
   "outputs": [],
   "source": [
    "library(tidyverse)\n",
    "library(kableExtra)\n",
    "library(janitor)"
   ]
  },
  {
   "cell_type": "code",
   "execution_count": 16,
   "metadata": {
    "vscode": {
     "languageId": "r"
    }
   },
   "outputs": [],
   "source": [
    "# t0 <- read.csv(\"manual-inspection/survived_mutants_sample-run-312.csv\") %>% mutate(temperature=\"LLMorpheus\")\n",
    "# stryker <- read.csv(\"manual-inspection/survived_mutants_sample-stryker.csv\") %>% mutate(temperature=\"Stryker\")\n",
    "\n",
    "coded <- read.csv('manual-inspection/all-coded-mutants-final.csv') "
   ]
  },
  {
   "cell_type": "code",
   "execution_count": 17,
   "metadata": {
    "vscode": {
     "languageId": "r"
    }
   },
   "outputs": [
    {
     "data": {
      "text/html": [
       "<table class=\"dataframe\">\n",
       "<caption>A grouped_df: 2 × 2</caption>\n",
       "<thead>\n",
       "\t<tr><th scope=col>temperature</th><th scope=col>n</th></tr>\n",
       "\t<tr><th scope=col>&lt;chr&gt;</th><th scope=col>&lt;int&gt;</th></tr>\n",
       "</thead>\n",
       "<tbody>\n",
       "\t<tr><td>LLMorpheus</td><td>517</td></tr>\n",
       "\t<tr><td>Stryker   </td><td>430</td></tr>\n",
       "</tbody>\n",
       "</table>\n"
      ],
      "text/latex": [
       "A grouped\\_df: 2 × 2\n",
       "\\begin{tabular}{ll}\n",
       " temperature & n\\\\\n",
       " <chr> & <int>\\\\\n",
       "\\hline\n",
       "\t LLMorpheus & 517\\\\\n",
       "\t Stryker    & 430\\\\\n",
       "\\end{tabular}\n"
      ],
      "text/markdown": [
       "\n",
       "A grouped_df: 2 × 2\n",
       "\n",
       "| temperature &lt;chr&gt; | n &lt;int&gt; |\n",
       "|---|---|\n",
       "| LLMorpheus | 517 |\n",
       "| Stryker    | 430 |\n",
       "\n"
      ],
      "text/plain": [
       "  temperature n  \n",
       "1 LLMorpheus  517\n",
       "2 Stryker     430"
      ]
     },
     "metadata": {},
     "output_type": "display_data"
    }
   ],
   "source": [
    "coded %>% group_by(temperature) %>% count() "
   ]
  },
  {
   "cell_type": "code",
   "execution_count": 18,
   "metadata": {
    "vscode": {
     "languageId": "r"
    }
   },
   "outputs": [
    {
     "name": "stderr",
     "output_type": "stream",
     "text": [
      "\u001b[1m\u001b[22m`summarise()` has grouped output by 'project', 'coding'. You can override using\n",
      "the `.groups` argument.\n"
     ]
    },
    {
     "data": {
      "text/plain": [
       "\n",
       "\n",
       "|project                 | LLMorpheus_Trivially Equivalent| LLMorpheus_Behavioral Change| LLMorpheus_Unknown| Stryker_Trivially Equivalent| Stryker_Behavioral Change| Stryker_Unknown|\n",
       "|:-----------------------|-------------------------------:|----------------------------:|------------------:|----------------------------:|-------------------------:|---------------:|\n",
       "|Complex.js              |                               6|                           44|                  0|                            0|                        50|               0|\n",
       "|countries-and-timezones |                              17|                           11|                  1|                            0|                         6|               0|\n",
       "|crawler-url-parser      |                              16|                           33|                  1|                            0|                        47|               3|\n",
       "|delta                   |                               2|                           48|                  0|                            2|                        48|               0|\n",
       "|image-downloader        |                               4|                           12|                  1|                            0|                         4|               4|\n",
       "|node-dirty              |                              13|                           36|                  1|                            0|                        46|               4|\n",
       "|node-geo-point          |                               1|                           47|                  2|                            1|                        41|               8|\n",
       "|node-jsonfile           |                               7|                           25|                  0|                            0|                         3|               0|\n",
       "|plural                  |                              16|                           34|                  0|                            0|                        36|               1|\n",
       "|pull-stream             |                               3|                           44|                  3|                            0|                        48|               2|\n",
       "|q                       |                               2|                           48|                  0|                            0|                        48|               2|\n",
       "|spacl-core              |                              18|                           21|                  0|                            2|                        12|               6|\n",
       "|zip-a-folder            |                               0|                            0|                  0|                            0|                         6|               0|\n",
       "|Total                   |                             105|                          403|                  9|                            5|                       395|              30|"
      ]
     },
     "metadata": {},
     "output_type": "display_data"
    }
   ],
   "source": [
    "coded %>% group_by(project, coding, temperature) %>% summarise(n=n()) %>%\n",
    "pivot_wider(names_from = c(\"temperature\",\"coding\"), values_from = n, values_fill=0) %>%\n",
    "mutate(`Stryker_Near Equivalent` = 0) %>% # fill in missing column\n",
    "select(project,`LLMorpheus_Trivially Equivalent`, `LLMorpheus_Behavioral Change`, `LLMorpheus_Unknown`,\n",
    "\n",
    "`Stryker_Trivially Equivalent`, `Stryker_Behavioral Change`,`Stryker_Unknown`) %>%\n",
    "adorn_totals(\"row\") %>%\n",
    "kable(format.args = list(big.mark = \",\"), escape = F,\n",
    "#  format = \"latex\",\n",
    " booktabs = TRUE, linesep = \"\")"
   ]
  }
 ],
 "metadata": {
  "kernelspec": {
   "display_name": "R",
   "language": "R",
   "name": "ir"
  },
  "language_info": {
   "codemirror_mode": "r",
   "file_extension": ".r",
   "mimetype": "text/x-r-source",
   "name": "R",
   "pygments_lexer": "r",
   "version": "4.4.2"
  }
 },
 "nbformat": 4,
 "nbformat_minor": 2
}
