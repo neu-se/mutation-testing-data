{
 "cells": [
  {
   "cell_type": "code",
   "execution_count": 6,
   "metadata": {
    "vscode": {
     "languageId": "r"
    }
   },
   "outputs": [],
   "source": [
    "library(tidyverse)\n",
    "library(kableExtra)\n",
    "library(janitor)"
   ]
  },
  {
   "cell_type": "code",
   "execution_count": 7,
   "metadata": {
    "vscode": {
     "languageId": "r"
    }
   },
   "outputs": [],
   "source": [
    "# t0 <- read.csv(\"manual-inspection/survived_mutants_sample-run-312.csv\") %>% mutate(temperature=\"LLMorpheus\")\n",
    "# stryker <- read.csv(\"manual-inspection/survived_mutants_sample-stryker.csv\") %>% mutate(temperature=\"Stryker\")\n",
    "\n",
    "coded <- read.csv('manual-inspection/all-coded-mutants-final.csv') "
   ]
  },
  {
   "cell_type": "code",
   "execution_count": 8,
   "metadata": {
    "vscode": {
     "languageId": "r"
    }
   },
   "outputs": [
    {
     "data": {
      "text/html": [
       "<table class=\"dataframe\">\n",
       "<caption>A grouped_df: 2 × 2</caption>\n",
       "<thead>\n",
       "\t<tr><th scope=col>temperature</th><th scope=col>n</th></tr>\n",
       "\t<tr><th scope=col>&lt;chr&gt;</th><th scope=col>&lt;int&gt;</th></tr>\n",
       "</thead>\n",
       "<tbody>\n",
       "\t<tr><td>LLMorpheus</td><td>524</td></tr>\n",
       "\t<tr><td>Stryker   </td><td>430</td></tr>\n",
       "</tbody>\n",
       "</table>\n"
      ],
      "text/latex": [
       "A grouped\\_df: 2 × 2\n",
       "\\begin{tabular}{ll}\n",
       " temperature & n\\\\\n",
       " <chr> & <int>\\\\\n",
       "\\hline\n",
       "\t LLMorpheus & 524\\\\\n",
       "\t Stryker    & 430\\\\\n",
       "\\end{tabular}\n"
      ],
      "text/markdown": [
       "\n",
       "A grouped_df: 2 × 2\n",
       "\n",
       "| temperature &lt;chr&gt; | n &lt;int&gt; |\n",
       "|---|---|\n",
       "| LLMorpheus | 524 |\n",
       "| Stryker    | 430 |\n",
       "\n"
      ],
      "text/plain": [
       "  temperature n  \n",
       "1 LLMorpheus  524\n",
       "2 Stryker     430"
      ]
     },
     "metadata": {},
     "output_type": "display_data"
    }
   ],
   "source": [
    "coded %>% group_by(temperature) %>% count() "
   ]
  },
  {
   "cell_type": "code",
   "execution_count": 9,
   "metadata": {
    "vscode": {
     "languageId": "r"
    }
   },
   "outputs": [
    {
     "name": "stderr",
     "output_type": "stream",
     "text": [
      "\u001b[1m\u001b[22m`summarise()` has grouped output by 'project', 'coding'. You can override using\n",
      "the `.groups` argument.\n"
     ]
    },
    {
     "data": {
      "text/plain": [
       "\n",
       "\n",
       "|project                 | LLMorpheus_Equivalent| LLMorpheus_Behavioral Change| Stryker_Equivalent| Stryker_Behavioral Change|\n",
       "|:-----------------------|---------------------:|----------------------------:|------------------:|-------------------------:|\n",
       "|Complex.js              |                     6|                           44|                  1|                        49|\n",
       "|countries-and-timezones |                    18|                           11|                  0|                         6|\n",
       "|crawler-url-parser      |                    11|                           39|                  5|                        45|\n",
       "|delta                   |                     9|                           41|                  7|                        43|\n",
       "|image-downloader        |                     4|                           13|                  0|                         8|\n",
       "|node-dirty              |                    13|                           37|                  0|                        50|\n",
       "|node-geo-point          |                     3|                           47|                  5|                        45|\n",
       "|node-jsonfile           |                    12|                           25|                  0|                         3|\n",
       "|plural                  |                    12|                           38|                  0|                        37|\n",
       "|pull-stream             |                     1|                           49|                  0|                        50|\n",
       "|q                       |                     0|                           50|                  0|                        50|\n",
       "|spacl-core              |                    17|                           24|                  2|                        18|\n",
       "|zip-a-folder            |                     0|                            0|                  0|                         6|\n",
       "|Total                   |                   106|                          418|                 20|                       410|"
      ]
     },
     "metadata": {},
     "output_type": "display_data"
    }
   ],
   "source": [
    "coded %>% group_by(project, coding, temperature) %>% summarise(n=n()) %>%\n",
    "pivot_wider(names_from = c(\"temperature\",\"coding\"), values_from = n, values_fill=0) %>%\n",
    "select(project,`LLMorpheus_Equivalent`, `LLMorpheus_Behavioral Change`, \n",
    "`Stryker_Equivalent`, `Stryker_Behavioral Change`) %>%\n",
    "adorn_totals(\"row\") %>%\n",
    "kable(format.args = list(big.mark = \",\"), escape = F,\n",
    "#  format = \"latex\",\n",
    " booktabs = TRUE, linesep = \"\")"
   ]
  }
 ],
 "metadata": {
  "kernelspec": {
   "display_name": "R",
   "language": "R",
   "name": "ir"
  },
  "language_info": {
   "codemirror_mode": "r",
   "file_extension": ".r",
   "mimetype": "text/x-r-source",
   "name": "R",
   "pygments_lexer": "r",
   "version": "4.4.2"
  }
 },
 "nbformat": 4,
 "nbformat_minor": 2
}
