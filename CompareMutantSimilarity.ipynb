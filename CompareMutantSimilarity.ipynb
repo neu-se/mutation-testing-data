{
 "cells": [
  {
   "cell_type": "code",
   "execution_count": 1,
   "metadata": {
    "vscode": {
     "languageId": "r"
    }
   },
   "outputs": [
    {
     "name": "stderr",
     "output_type": "stream",
     "text": [
      "── \u001b[1mAttaching core tidyverse packages\u001b[22m ──────────────────────── tidyverse 2.0.0 ──\n",
      "\u001b[32m✔\u001b[39m \u001b[34mdplyr    \u001b[39m 1.1.2     \u001b[32m✔\u001b[39m \u001b[34mreadr    \u001b[39m 2.1.4\n",
      "\u001b[32m✔\u001b[39m \u001b[34mforcats  \u001b[39m 1.0.0     \u001b[32m✔\u001b[39m \u001b[34mstringr  \u001b[39m 1.5.0\n",
      "\u001b[32m✔\u001b[39m \u001b[34mggplot2  \u001b[39m 3.4.3     \u001b[32m✔\u001b[39m \u001b[34mtibble   \u001b[39m 3.2.1\n",
      "\u001b[32m✔\u001b[39m \u001b[34mlubridate\u001b[39m 1.9.2     \u001b[32m✔\u001b[39m \u001b[34mtidyr    \u001b[39m 1.3.0\n",
      "\u001b[32m✔\u001b[39m \u001b[34mpurrr    \u001b[39m 1.0.2     \n",
      "── \u001b[1mConflicts\u001b[22m ────────────────────────────────────────── tidyverse_conflicts() ──\n",
      "\u001b[31m✖\u001b[39m \u001b[34mdplyr\u001b[39m::\u001b[32mfilter()\u001b[39m masks \u001b[34mstats\u001b[39m::filter()\n",
      "\u001b[31m✖\u001b[39m \u001b[34mdplyr\u001b[39m::\u001b[32mlag()\u001b[39m    masks \u001b[34mstats\u001b[39m::lag()\n",
      "\u001b[36mℹ\u001b[39m Use the conflicted package (\u001b[3m\u001b[34m<http://conflicted.r-lib.org/>\u001b[39m\u001b[23m) to force all conflicts to become errors\n",
      "\n",
      "Attaching package: ‘jsonlite’\n",
      "\n",
      "\n",
      "The following object is masked from ‘package:purrr’:\n",
      "\n",
      "    flatten\n",
      "\n",
      "\n",
      "\n",
      "Attaching package: ‘kableExtra’\n",
      "\n",
      "\n",
      "The following object is masked from ‘package:dplyr’:\n",
      "\n",
      "    group_rows\n",
      "\n",
      "\n"
     ]
    }
   ],
   "source": [
    "library(tidyverse)\n",
    "library(jsonlite)\n",
    "library(tidystringdist)\n",
    "library(kableExtra)"
   ]
  },
  {
   "cell_type": "code",
   "execution_count": 2,
   "metadata": {
    "vscode": {
     "languageId": "r"
    }
   },
   "outputs": [],
   "source": [
    "BASE_DIR <- '/Users/jon/Documents/NEU/Projects/llm-mutation-testing/mutation-testing-data'\n",
    "\n",
    "# find all mutants.json files in BASE_DIR\n",
    "mutants_files <- list.files(path = BASE_DIR, recursive = TRUE, pattern = \"mutants.json\", full.names = TRUE)\n",
    "\n",
    "# load in all mutants.json files, adding a column for the file path\n",
    "mutants <- map_df(mutants_files, ~fromJSON(.x) %>%\n",
    "                    mutate(file = .x)) %>%\n",
    "        extract(file, c('model','template','temperature','run','project'), \"mutation-testing-data/([^/]+)/template-([^-]+)-([^/]+)/run([^/]+)/projects/([^/]+)/\") \n",
    "\n",
    "mutants <- tidy_stringdist(mutants, \"originalCode\", \"replacement\", method = \"lv\")"
   ]
  },
  {
   "cell_type": "code",
   "execution_count": 22,
   "metadata": {
    "vscode": {
     "languageId": "r"
    }
   },
   "outputs": [
    {
     "name": "stderr",
     "output_type": "stream",
     "text": [
      "\u001b[1m\u001b[22m`summarise()` has grouped output by 'project', 'model', 'template'. You can\n",
      "override using the `.groups` argument.\n"
     ]
    },
    {
     "data": {
      "text/plain": [
       "\n",
       "\\begin{tabular}{lrrr}\n",
       "\\toprule\n",
       "project & codellama-34b-instruct_full_0.0 & codellama-13b-instruct_full_0.0 & mixtral-8x7b-instruct_full_0.0\\\\\n",
       "\\midrule\n",
       "Complex.js & 4.27 & 4.63 & 8.95\\\\\n",
       "countries-and-timezones & 11.13 & 9.78 & 13.65\\\\\n",
       "crawler-url-parser & 9.50 & 8.82 & 12.65\\\\\n",
       "delta & 9.55 & 8.88 & 14.15\\\\\n",
       "image-downloader & 12.67 & 10.74 & 14.21\\\\\n",
       "node-dirty & 7.53 & 7.42 & 12.08\\\\\n",
       "node-geo-point & 8.86 & 8.15 & 15.27\\\\\n",
       "node-jsonfile & 9.73 & 10.07 & 10.81\\\\\n",
       "plural & 8.14 & 6.29 & 10.37\\\\\n",
       "pull-stream & 6.72 & 8.71 & 9.67\\\\\n",
       "q & 8.61 & 9.71 & 13.23\\\\\n",
       "spacl-core & 9.30 & 10.84 & 12.61\\\\\n",
       "zip-a-folder & 9.85 & 12.38 & 11.61\\\\\n",
       "\\bottomrule\n",
       "\\end{tabular}"
      ]
     },
     "metadata": {},
     "output_type": "display_data"
    },
    {
     "data": {
      "text/plain": [
       "\n",
       "\\begin{tabular}{lrrrrrr}\n",
       "\\toprule\n",
       "project & codellama-34b-instruct_full_0.0 & codellama-34b-instruct_onemutation_0.0 & codellama-34b-instruct_noexplanation_0.0 & codellama-34b-instruct_noinstructions_0.0 & codellama-34b-instruct_full_genericsystemprompt-0.0 & codellama-34b-instruct_basic_0.0\\\\\n",
       "\\midrule\n",
       "Complex.js & 4.27 & 3.37 & 5.09 & 4.27 & 4.17 & 11.98\\\\\n",
       "countries-and-timezones & 11.13 & 7.75 & 11.17 & 10.87 & 10.85 & 11.29\\\\\n",
       "crawler-url-parser & 9.50 & 6.41 & 9.46 & 9.49 & 9.30 & 20.04\\\\\n",
       "delta & 9.55 & 7.38 & 9.91 & 9.43 & 9.14 & 19.63\\\\\n",
       "image-downloader & 12.67 & 8.82 & 12.89 & 11.01 & 11.48 & 21.92\\\\\n",
       "node-dirty & 7.53 & 6.90 & 7.58 & 7.41 & 7.51 & 17.52\\\\\n",
       "node-geo-point & 8.86 & 6.10 & 8.79 & 7.75 & 8.66 & 15.66\\\\\n",
       "node-jsonfile & 9.73 & 6.98 & 9.76 & 7.77 & 8.91 & 11.64\\\\\n",
       "plural & 8.14 & 5.21 & 8.41 & 7.58 & 7.80 & 23.64\\\\\n",
       "pull-stream & 6.72 & 4.57 & 7.53 & 7.48 & 7.30 & 11.92\\\\\n",
       "q & 8.61 & 7.61 & 9.21 & 8.60 & 8.58 & 16.18\\\\\n",
       "spacl-core & 9.30 & 5.86 & 10.44 & 9.43 & 9.44 & 14.27\\\\\n",
       "zip-a-folder & 9.85 & 5.33 & 9.02 & 10.05 & 10.10 & 24.60\\\\\n",
       "\\bottomrule\n",
       "\\end{tabular}"
      ]
     },
     "metadata": {},
     "output_type": "display_data"
    }
   ],
   "source": [
    "# calculate string edit distance between originalCode and replacement\n",
    "# mutants %>%\n",
    "# mutate(b=replacement,a=originalCode)%>%\n",
    "# head() %>%\n",
    "  # mutate(edit_distance = tidy_stringdist(a, b, method = \"jaccard\"))\n",
    "# mutants%>% head()\n",
    "mutantEditDistance <- mutants %>% group_by(project,model,template,temperature) %>% summarise(mean_edit_distance = mean(lv)) %>% ungroup() %>% \n",
    "mutate(mean_edit_distance = round(mean_edit_distance,2)) \n",
    "\n",
    "mutantEditDistance %>%\n",
    "filter(template==\"full\" & temperature==\"0.0\")%>%\n",
    "pivot_wider(names_from=c(\"model\",\"template\",\"temperature\"), values_from=mean_edit_distance) %>%\n",
    "select(project, `codellama-34b-instruct_full_0.0`, `codellama-13b-instruct_full_0.0`, `mixtral-8x7b-instruct_full_0.0`) %>%\n",
    "kable(format.args = list(big.mark = \",\"), escape = F,\n",
    " format = \"latex\",booktabs = TRUE, linesep = \"\")\n",
    "\n",
    "\n",
    " mutantEditDistance %>%\n",
    "filter(model=='codellama-34b-instruct')%>%\n",
    "pivot_wider(names_from=c(\"model\",\"template\",\"temperature\"), values_from=mean_edit_distance) %>%\n",
    "select(project, `codellama-34b-instruct_full_0.0`,`codellama-34b-instruct_onemutation_0.0`,\n",
    "`codellama-34b-instruct_noexplanation_0.0`,\n",
    "`codellama-34b-instruct_noinstructions_0.0`,\n",
    "`codellama-34b-instruct_full_genericsystemprompt-0.0`,\n",
    "`codellama-34b-instruct_basic_0.0`\n",
    " ) %>%\n",
    "kable(format.args = list(big.mark = \",\"), escape = F,\n",
    " format = \"latex\",booktabs = TRUE, linesep = \"\")"
   ]
  },
  {
   "cell_type": "code",
   "execution_count": 4,
   "metadata": {
    "vscode": {
     "languageId": "r"
    }
   },
   "outputs": [],
   "source": [
    "# mutants %>% filter(project=='image-downloader' & (template=='full' | template=='basic') & temperature=='0.0') \n",
    "# pivot_wider()\n",
    "\n",
    "biggestDifferences <- mutants %>% group_by(project, template, temperature, model) %>%\n",
    "slice_max(lv,n = 2, with_ties= FALSE) %>% arrange(project, model, template, temperature)\n",
    "leastDifferences <- mutants %>% group_by(project, template, temperature, model) %>%\n",
    "slice_min(lv,n = 2, with_ties= FALSE) %>% arrange(project, model, template, temperature)\n",
    "\n",
    "write.csv(biggestDifferences, file = \"biggestDifferences.csv\", row.names = FALSE)\n",
    "write.csv(leastDifferences, file = \"leastDifferences.csv\", row.names = FALSE)\n"
   ]
  },
  {
   "cell_type": "code",
   "execution_count": 5,
   "metadata": {
    "vscode": {
     "languageId": "r"
    }
   },
   "outputs": [],
   "source": [
    "mutants_baseline <- mutants %>% filter(template=='full' & temperature=='0.0' & model=='codellama-34b-instruct')"
   ]
  },
  {
   "cell_type": "code",
   "execution_count": 6,
   "metadata": {
    "vscode": {
     "languageId": "r"
    }
   },
   "outputs": [
    {
     "name": "stderr",
     "output_type": "stream",
     "text": [
      "\u001b[1m\u001b[22m`summarise()` has grouped output by 'project', 'model', 'template'. You can\n",
      "override using the `.groups` argument.\n"
     ]
    },
    {
     "data": {
      "text/html": [
       "<table class=\"dataframe\">\n",
       "<caption>A tibble: 13 × 11</caption>\n",
       "<thead>\n",
       "\t<tr><th scope=col>project</th><th scope=col>codellama-13b-instruct_full_0.0</th><th scope=col>codellama-34b-instruct_basic_0.0</th><th scope=col>codellama-34b-instruct_full_0.25</th><th scope=col>codellama-34b-instruct_full_0.5</th><th scope=col>codellama-34b-instruct_full_1.0</th><th scope=col>codellama-34b-instruct_full_genericsystemprompt-0.0</th><th scope=col>codellama-34b-instruct_noexplanation_0.0</th><th scope=col>codellama-34b-instruct_noinstructions_0.0</th><th scope=col>codellama-34b-instruct_onemutation_0.0</th><th scope=col>mixtral-8x7b-instruct_full_0.0</th></tr>\n",
       "\t<tr><th scope=col>&lt;chr&gt;</th><th scope=col>&lt;dbl&gt;</th><th scope=col>&lt;dbl&gt;</th><th scope=col>&lt;dbl&gt;</th><th scope=col>&lt;dbl&gt;</th><th scope=col>&lt;dbl&gt;</th><th scope=col>&lt;dbl&gt;</th><th scope=col>&lt;dbl&gt;</th><th scope=col>&lt;dbl&gt;</th><th scope=col>&lt;dbl&gt;</th><th scope=col>&lt;dbl&gt;</th></tr>\n",
       "</thead>\n",
       "<tbody>\n",
       "\t<tr><td>Complex.js             </td><td>3.029531</td><td> 8.892899</td><td>1.978023</td><td>2.448525</td><td>4.379572</td><td>1.636050</td><td>2.346533</td><td>1.968825</td><td>1.858666</td><td> 6.205143</td></tr>\n",
       "\t<tr><td>countries-and-timezones</td><td>7.731699</td><td> 6.927419</td><td>5.964977</td><td>6.580906</td><td>8.674877</td><td>5.661265</td><td>6.633782</td><td>6.751040</td><td>6.127778</td><td> 9.216538</td></tr>\n",
       "\t<tr><td>crawler-url-parser     </td><td>6.407374</td><td>17.646591</td><td>4.714363</td><td>6.072846</td><td>8.710418</td><td>4.246158</td><td>4.992904</td><td>4.371172</td><td>3.949206</td><td>10.252970</td></tr>\n",
       "\t<tr><td>delta                  </td><td>6.173866</td><td>12.739788</td><td>4.024385</td><td>5.215778</td><td>7.883530</td><td>3.554530</td><td>4.605344</td><td>4.742474</td><td>3.989054</td><td> 9.268240</td></tr>\n",
       "\t<tr><td>image-downloader       </td><td>6.559651</td><td>17.385714</td><td>5.674227</td><td>6.432223</td><td>8.670696</td><td>5.374587</td><td>5.788618</td><td>5.784014</td><td>4.718535</td><td> 9.222222</td></tr>\n",
       "\t<tr><td>node-dirty             </td><td>4.308391</td><td> 9.668621</td><td>3.963428</td><td>4.584016</td><td>6.511032</td><td>3.290323</td><td>3.682717</td><td>4.050228</td><td>3.326154</td><td> 7.980945</td></tr>\n",
       "\t<tr><td>node-geo-point         </td><td>6.461708</td><td>14.053691</td><td>3.127130</td><td>4.589208</td><td>7.294772</td><td>2.596789</td><td>3.227074</td><td>3.991463</td><td>3.732180</td><td>11.665262</td></tr>\n",
       "\t<tr><td>node-jsonfile          </td><td>5.977654</td><td> 8.066667</td><td>4.964872</td><td>5.884913</td><td>8.132706</td><td>5.026067</td><td>4.859899</td><td>5.493874</td><td>4.400524</td><td> 7.524360</td></tr>\n",
       "\t<tr><td>plural                 </td><td>7.116323</td><td>20.358684</td><td>5.156992</td><td>6.015751</td><td>8.590891</td><td>4.239615</td><td>5.627558</td><td>5.120312</td><td>4.388862</td><td> 9.392463</td></tr>\n",
       "\t<tr><td>pull-stream            </td><td>5.208274</td><td> 7.742737</td><td>3.474531</td><td>3.897119</td><td>5.137072</td><td>3.357048</td><td>3.757894</td><td>4.301716</td><td>3.365128</td><td> 6.068680</td></tr>\n",
       "\t<tr><td>q                      </td><td>6.183249</td><td>11.048737</td><td>3.925634</td><td>4.715164</td><td>6.457132</td><td>3.368099</td><td>4.634959</td><td>4.165708</td><td>4.334220</td><td> 9.424085</td></tr>\n",
       "\t<tr><td>spacl-core             </td><td>7.461538</td><td>10.587952</td><td>5.269368</td><td>6.123014</td><td>7.726272</td><td>5.109531</td><td>6.321461</td><td>5.739273</td><td>5.093184</td><td>10.313216</td></tr>\n",
       "\t<tr><td>zip-a-folder           </td><td>6.802500</td><td>15.903571</td><td>5.012405</td><td>5.846969</td><td>7.221127</td><td>4.726056</td><td>5.050584</td><td>5.695489</td><td>5.428000</td><td> 8.314523</td></tr>\n",
       "</tbody>\n",
       "</table>\n"
      ],
      "text/latex": [
       "A tibble: 13 × 11\n",
       "\\begin{tabular}{lllllllllll}\n",
       " project & codellama-13b-instruct\\_full\\_0.0 & codellama-34b-instruct\\_basic\\_0.0 & codellama-34b-instruct\\_full\\_0.25 & codellama-34b-instruct\\_full\\_0.5 & codellama-34b-instruct\\_full\\_1.0 & codellama-34b-instruct\\_full\\_genericsystemprompt-0.0 & codellama-34b-instruct\\_noexplanation\\_0.0 & codellama-34b-instruct\\_noinstructions\\_0.0 & codellama-34b-instruct\\_onemutation\\_0.0 & mixtral-8x7b-instruct\\_full\\_0.0\\\\\n",
       " <chr> & <dbl> & <dbl> & <dbl> & <dbl> & <dbl> & <dbl> & <dbl> & <dbl> & <dbl> & <dbl>\\\\\n",
       "\\hline\n",
       "\t Complex.js              & 3.029531 &  8.892899 & 1.978023 & 2.448525 & 4.379572 & 1.636050 & 2.346533 & 1.968825 & 1.858666 &  6.205143\\\\\n",
       "\t countries-and-timezones & 7.731699 &  6.927419 & 5.964977 & 6.580906 & 8.674877 & 5.661265 & 6.633782 & 6.751040 & 6.127778 &  9.216538\\\\\n",
       "\t crawler-url-parser      & 6.407374 & 17.646591 & 4.714363 & 6.072846 & 8.710418 & 4.246158 & 4.992904 & 4.371172 & 3.949206 & 10.252970\\\\\n",
       "\t delta                   & 6.173866 & 12.739788 & 4.024385 & 5.215778 & 7.883530 & 3.554530 & 4.605344 & 4.742474 & 3.989054 &  9.268240\\\\\n",
       "\t image-downloader        & 6.559651 & 17.385714 & 5.674227 & 6.432223 & 8.670696 & 5.374587 & 5.788618 & 5.784014 & 4.718535 &  9.222222\\\\\n",
       "\t node-dirty              & 4.308391 &  9.668621 & 3.963428 & 4.584016 & 6.511032 & 3.290323 & 3.682717 & 4.050228 & 3.326154 &  7.980945\\\\\n",
       "\t node-geo-point          & 6.461708 & 14.053691 & 3.127130 & 4.589208 & 7.294772 & 2.596789 & 3.227074 & 3.991463 & 3.732180 & 11.665262\\\\\n",
       "\t node-jsonfile           & 5.977654 &  8.066667 & 4.964872 & 5.884913 & 8.132706 & 5.026067 & 4.859899 & 5.493874 & 4.400524 &  7.524360\\\\\n",
       "\t plural                  & 7.116323 & 20.358684 & 5.156992 & 6.015751 & 8.590891 & 4.239615 & 5.627558 & 5.120312 & 4.388862 &  9.392463\\\\\n",
       "\t pull-stream             & 5.208274 &  7.742737 & 3.474531 & 3.897119 & 5.137072 & 3.357048 & 3.757894 & 4.301716 & 3.365128 &  6.068680\\\\\n",
       "\t q                       & 6.183249 & 11.048737 & 3.925634 & 4.715164 & 6.457132 & 3.368099 & 4.634959 & 4.165708 & 4.334220 &  9.424085\\\\\n",
       "\t spacl-core              & 7.461538 & 10.587952 & 5.269368 & 6.123014 & 7.726272 & 5.109531 & 6.321461 & 5.739273 & 5.093184 & 10.313216\\\\\n",
       "\t zip-a-folder            & 6.802500 & 15.903571 & 5.012405 & 5.846969 & 7.221127 & 4.726056 & 5.050584 & 5.695489 & 5.428000 &  8.314523\\\\\n",
       "\\end{tabular}\n"
      ],
      "text/markdown": [
       "\n",
       "A tibble: 13 × 11\n",
       "\n",
       "| project &lt;chr&gt; | codellama-13b-instruct_full_0.0 &lt;dbl&gt; | codellama-34b-instruct_basic_0.0 &lt;dbl&gt; | codellama-34b-instruct_full_0.25 &lt;dbl&gt; | codellama-34b-instruct_full_0.5 &lt;dbl&gt; | codellama-34b-instruct_full_1.0 &lt;dbl&gt; | codellama-34b-instruct_full_genericsystemprompt-0.0 &lt;dbl&gt; | codellama-34b-instruct_noexplanation_0.0 &lt;dbl&gt; | codellama-34b-instruct_noinstructions_0.0 &lt;dbl&gt; | codellama-34b-instruct_onemutation_0.0 &lt;dbl&gt; | mixtral-8x7b-instruct_full_0.0 &lt;dbl&gt; |\n",
       "|---|---|---|---|---|---|---|---|---|---|---|\n",
       "| Complex.js              | 3.029531 |  8.892899 | 1.978023 | 2.448525 | 4.379572 | 1.636050 | 2.346533 | 1.968825 | 1.858666 |  6.205143 |\n",
       "| countries-and-timezones | 7.731699 |  6.927419 | 5.964977 | 6.580906 | 8.674877 | 5.661265 | 6.633782 | 6.751040 | 6.127778 |  9.216538 |\n",
       "| crawler-url-parser      | 6.407374 | 17.646591 | 4.714363 | 6.072846 | 8.710418 | 4.246158 | 4.992904 | 4.371172 | 3.949206 | 10.252970 |\n",
       "| delta                   | 6.173866 | 12.739788 | 4.024385 | 5.215778 | 7.883530 | 3.554530 | 4.605344 | 4.742474 | 3.989054 |  9.268240 |\n",
       "| image-downloader        | 6.559651 | 17.385714 | 5.674227 | 6.432223 | 8.670696 | 5.374587 | 5.788618 | 5.784014 | 4.718535 |  9.222222 |\n",
       "| node-dirty              | 4.308391 |  9.668621 | 3.963428 | 4.584016 | 6.511032 | 3.290323 | 3.682717 | 4.050228 | 3.326154 |  7.980945 |\n",
       "| node-geo-point          | 6.461708 | 14.053691 | 3.127130 | 4.589208 | 7.294772 | 2.596789 | 3.227074 | 3.991463 | 3.732180 | 11.665262 |\n",
       "| node-jsonfile           | 5.977654 |  8.066667 | 4.964872 | 5.884913 | 8.132706 | 5.026067 | 4.859899 | 5.493874 | 4.400524 |  7.524360 |\n",
       "| plural                  | 7.116323 | 20.358684 | 5.156992 | 6.015751 | 8.590891 | 4.239615 | 5.627558 | 5.120312 | 4.388862 |  9.392463 |\n",
       "| pull-stream             | 5.208274 |  7.742737 | 3.474531 | 3.897119 | 5.137072 | 3.357048 | 3.757894 | 4.301716 | 3.365128 |  6.068680 |\n",
       "| q                       | 6.183249 | 11.048737 | 3.925634 | 4.715164 | 6.457132 | 3.368099 | 4.634959 | 4.165708 | 4.334220 |  9.424085 |\n",
       "| spacl-core              | 7.461538 | 10.587952 | 5.269368 | 6.123014 | 7.726272 | 5.109531 | 6.321461 | 5.739273 | 5.093184 | 10.313216 |\n",
       "| zip-a-folder            | 6.802500 | 15.903571 | 5.012405 | 5.846969 | 7.221127 | 4.726056 | 5.050584 | 5.695489 | 5.428000 |  8.314523 |\n",
       "\n"
      ],
      "text/plain": [
       "   project                 codellama-13b-instruct_full_0.0\n",
       "1  Complex.js              3.029531                       \n",
       "2  countries-and-timezones 7.731699                       \n",
       "3  crawler-url-parser      6.407374                       \n",
       "4  delta                   6.173866                       \n",
       "5  image-downloader        6.559651                       \n",
       "6  node-dirty              4.308391                       \n",
       "7  node-geo-point          6.461708                       \n",
       "8  node-jsonfile           5.977654                       \n",
       "9  plural                  7.116323                       \n",
       "10 pull-stream             5.208274                       \n",
       "11 q                       6.183249                       \n",
       "12 spacl-core              7.461538                       \n",
       "13 zip-a-folder            6.802500                       \n",
       "   codellama-34b-instruct_basic_0.0 codellama-34b-instruct_full_0.25\n",
       "1   8.892899                        1.978023                        \n",
       "2   6.927419                        5.964977                        \n",
       "3  17.646591                        4.714363                        \n",
       "4  12.739788                        4.024385                        \n",
       "5  17.385714                        5.674227                        \n",
       "6   9.668621                        3.963428                        \n",
       "7  14.053691                        3.127130                        \n",
       "8   8.066667                        4.964872                        \n",
       "9  20.358684                        5.156992                        \n",
       "10  7.742737                        3.474531                        \n",
       "11 11.048737                        3.925634                        \n",
       "12 10.587952                        5.269368                        \n",
       "13 15.903571                        5.012405                        \n",
       "   codellama-34b-instruct_full_0.5 codellama-34b-instruct_full_1.0\n",
       "1  2.448525                        4.379572                       \n",
       "2  6.580906                        8.674877                       \n",
       "3  6.072846                        8.710418                       \n",
       "4  5.215778                        7.883530                       \n",
       "5  6.432223                        8.670696                       \n",
       "6  4.584016                        6.511032                       \n",
       "7  4.589208                        7.294772                       \n",
       "8  5.884913                        8.132706                       \n",
       "9  6.015751                        8.590891                       \n",
       "10 3.897119                        5.137072                       \n",
       "11 4.715164                        6.457132                       \n",
       "12 6.123014                        7.726272                       \n",
       "13 5.846969                        7.221127                       \n",
       "   codellama-34b-instruct_full_genericsystemprompt-0.0\n",
       "1  1.636050                                           \n",
       "2  5.661265                                           \n",
       "3  4.246158                                           \n",
       "4  3.554530                                           \n",
       "5  5.374587                                           \n",
       "6  3.290323                                           \n",
       "7  2.596789                                           \n",
       "8  5.026067                                           \n",
       "9  4.239615                                           \n",
       "10 3.357048                                           \n",
       "11 3.368099                                           \n",
       "12 5.109531                                           \n",
       "13 4.726056                                           \n",
       "   codellama-34b-instruct_noexplanation_0.0\n",
       "1  2.346533                                \n",
       "2  6.633782                                \n",
       "3  4.992904                                \n",
       "4  4.605344                                \n",
       "5  5.788618                                \n",
       "6  3.682717                                \n",
       "7  3.227074                                \n",
       "8  4.859899                                \n",
       "9  5.627558                                \n",
       "10 3.757894                                \n",
       "11 4.634959                                \n",
       "12 6.321461                                \n",
       "13 5.050584                                \n",
       "   codellama-34b-instruct_noinstructions_0.0\n",
       "1  1.968825                                 \n",
       "2  6.751040                                 \n",
       "3  4.371172                                 \n",
       "4  4.742474                                 \n",
       "5  5.784014                                 \n",
       "6  4.050228                                 \n",
       "7  3.991463                                 \n",
       "8  5.493874                                 \n",
       "9  5.120312                                 \n",
       "10 4.301716                                 \n",
       "11 4.165708                                 \n",
       "12 5.739273                                 \n",
       "13 5.695489                                 \n",
       "   codellama-34b-instruct_onemutation_0.0 mixtral-8x7b-instruct_full_0.0\n",
       "1  1.858666                                6.205143                     \n",
       "2  6.127778                                9.216538                     \n",
       "3  3.949206                               10.252970                     \n",
       "4  3.989054                                9.268240                     \n",
       "5  4.718535                                9.222222                     \n",
       "6  3.326154                                7.980945                     \n",
       "7  3.732180                               11.665262                     \n",
       "8  4.400524                                7.524360                     \n",
       "9  4.388862                                9.392463                     \n",
       "10 3.365128                                6.068680                     \n",
       "11 4.334220                                9.424085                     \n",
       "12 5.093184                               10.313216                     \n",
       "13 5.428000                                8.314523                     "
      ]
     },
     "metadata": {},
     "output_type": "display_data"
    }
   ],
   "source": [
    "mutants %>% filter(!(template=='full' & temperature=='0.0' & model=='codellama-34b-instruct')) %>%\n",
    "inner_join(mutants_baseline, by=c('project','startLine','endLine','startColumn','endColumn','originalCode'), suffix = c(\"\",\".baseline\"), relationship = \"many-to-many\")  %>% \n",
    "mutate(lvDiff=abs(lv - lv.baseline)) %>%\n",
    "group_by(project,model,template,temperature) %>% summarise(mean_lvDiff = mean(lvDiff)) %>% ungroup() %>%\n",
    "pivot_wider(names_from = c(\"model\",\"template\",\"temperature\"), values_from = mean_lvDiff) \n",
    "# select(project,template,temperature,run,model,originalCode,replacement.baseline,replacement,lvDiff)%>%\n",
    "# head()"
   ]
  }
 ],
 "metadata": {
  "kernelspec": {
   "display_name": "R",
   "language": "R",
   "name": "ir"
  },
  "language_info": {
   "codemirror_mode": "r",
   "file_extension": ".r",
   "mimetype": "text/x-r-source",
   "name": "R",
   "pygments_lexer": "r",
   "version": "4.3.2"
  }
 },
 "nbformat": 4,
 "nbformat_minor": 2
}
