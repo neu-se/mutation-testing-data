{
 "cells": [
  {
   "cell_type": "code",
   "execution_count": 1,
   "metadata": {
    "vscode": {
     "languageId": "r"
    }
   },
   "outputs": [
    {
     "name": "stderr",
     "output_type": "stream",
     "text": [
      "── \u001b[1mAttaching core tidyverse packages\u001b[22m ──────────────────────── tidyverse 2.0.0 ──\n",
      "\u001b[32m✔\u001b[39m \u001b[34mdplyr    \u001b[39m 1.1.2     \u001b[32m✔\u001b[39m \u001b[34mreadr    \u001b[39m 2.1.4\n",
      "\u001b[32m✔\u001b[39m \u001b[34mforcats  \u001b[39m 1.0.0     \u001b[32m✔\u001b[39m \u001b[34mstringr  \u001b[39m 1.5.0\n",
      "\u001b[32m✔\u001b[39m \u001b[34mggplot2  \u001b[39m 3.4.3     \u001b[32m✔\u001b[39m \u001b[34mtibble   \u001b[39m 3.2.1\n",
      "\u001b[32m✔\u001b[39m \u001b[34mlubridate\u001b[39m 1.9.2     \u001b[32m✔\u001b[39m \u001b[34mtidyr    \u001b[39m 1.3.0\n",
      "\u001b[32m✔\u001b[39m \u001b[34mpurrr    \u001b[39m 1.0.2     \n",
      "── \u001b[1mConflicts\u001b[22m ────────────────────────────────────────── tidyverse_conflicts() ──\n",
      "\u001b[31m✖\u001b[39m \u001b[34mdplyr\u001b[39m::\u001b[32mfilter()\u001b[39m masks \u001b[34mstats\u001b[39m::filter()\n",
      "\u001b[31m✖\u001b[39m \u001b[34mdplyr\u001b[39m::\u001b[32mlag()\u001b[39m    masks \u001b[34mstats\u001b[39m::lag()\n",
      "\u001b[36mℹ\u001b[39m Use the conflicted package (\u001b[3m\u001b[34m<http://conflicted.r-lib.org/>\u001b[39m\u001b[23m) to force all conflicts to become errors\n",
      "\n",
      "Attaching package: ‘jsonlite’\n",
      "\n",
      "\n",
      "The following object is masked from ‘package:purrr’:\n",
      "\n",
      "    flatten\n",
      "\n",
      "\n",
      "\n",
      "Attaching package: ‘kableExtra’\n",
      "\n",
      "\n",
      "The following object is masked from ‘package:dplyr’:\n",
      "\n",
      "    group_rows\n",
      "\n",
      "\n"
     ]
    }
   ],
   "source": [
    "library(tidyverse)\n",
    "library(jsonlite)\n",
    "library(tidystringdist)\n",
    "library(kableExtra)"
   ]
  },
  {
   "cell_type": "code",
   "execution_count": 2,
   "metadata": {
    "vscode": {
     "languageId": "r"
    }
   },
   "outputs": [],
   "source": [
    "BASE_DIR <- '/Users/jon/Documents/NEU/Projects/llm-mutation-testing/mutation-testing-data'\n",
    "\n",
    "# find all mutants.json files in BASE_DIR\n",
    "mutants_files <- list.files(path = BASE_DIR, recursive = TRUE, pattern = \"mutants.json\", full.names = TRUE)\n",
    "\n",
    "# load in all mutants.json files, adding a column for the file path\n",
    "mutants <- map_df(mutants_files, ~fromJSON(.x) %>%\n",
    "                    mutate(file = .x)) %>%\n",
    "        extract(file, c('model','template','temperature','run','project'), \"mutation-testing-data/([^/]+)/template-([^-]+)-([^/]+)/run([^/]+)/projects/([^/]+)/\") \n",
    "\n",
    "mutants <- tidy_stringdist(mutants, \"originalCode\", \"replacement\", method = \"lv\")"
   ]
  },
  {
   "cell_type": "code",
   "execution_count": 6,
   "metadata": {
    "vscode": {
     "languageId": "r"
    }
   },
   "outputs": [
    {
     "name": "stderr",
     "output_type": "stream",
     "text": [
      "\u001b[1m\u001b[22m`summarise()` has grouped output by 'project', 'model', 'template'. You can\n",
      "override using the `.groups` argument.\n"
     ]
    },
    {
     "data": {
      "text/plain": [
       "\n",
       "\\begin{tabular}{lrrrrrrrrrrr}\n",
       "\\toprule\n",
       "project & codellama-13b-instruct_full_0.0 & codellama-34b-instruct_basic_0.0 & codellama-34b-instruct_full_0.0 & codellama-34b-instruct_full_0.25 & codellama-34b-instruct_full_0.5 & codellama-34b-instruct_full_1.0 & codellama-34b-instruct_full_genericsystemprompt-0.0 & codellama-34b-instruct_noexplanation_0.0 & codellama-34b-instruct_noinstructions_0.0 & codellama-34b-instruct_onemutation_0.0 & mixtral-8x7b-instruct_full_0.0\\\\\n",
       "\\midrule\n",
       "Complex.js & 4.63 & 11.98 & 4.27 & 4.17 & 4.43 & 6.55 & 4.17 & 5.09 & 4.27 & 3.37 & 8.95\\\\\n",
       "countries-and-timezones & 9.78 & 11.29 & 11.13 & 10.63 & 10.78 & 11.46 & 10.85 & 11.17 & 10.87 & 7.75 & 13.65\\\\\n",
       "crawler-url-parser & 8.82 & 20.04 & 9.50 & 9.25 & 9.62 & 11.44 & 9.30 & 9.46 & 9.49 & 6.41 & 12.65\\\\\n",
       "delta & 8.88 & 19.63 & 9.55 & 9.02 & 9.44 & 11.75 & 9.14 & 9.91 & 9.43 & 7.38 & 14.15\\\\\n",
       "image-downloader & 10.74 & 21.92 & 12.67 & 12.17 & 11.20 & 12.45 & 11.48 & 12.89 & 11.01 & 8.82 & 14.21\\\\\n",
       "node-dirty & 7.42 & 17.52 & 7.53 & 7.97 & 8.78 & 9.81 & 7.51 & 7.58 & 7.41 & 6.90 & 12.08\\\\\n",
       "node-geo-point & 8.15 & 15.66 & 8.86 & 8.34 & 8.44 & 9.75 & 8.66 & 8.79 & 7.75 & 6.10 & 15.27\\\\\n",
       "node-jsonfile & 10.07 & 11.64 & 9.73 & 8.63 & 9.40 & 10.76 & 8.91 & 9.76 & 7.77 & 6.98 & 10.81\\\\\n",
       "plural & 6.29 & 23.64 & 8.14 & 7.93 & 7.15 & 9.59 & 7.80 & 8.41 & 7.58 & 5.21 & 10.37\\\\\n",
       "pull-stream & 8.71 & 11.92 & 6.72 & 6.84 & 6.79 & 7.82 & 7.30 & 7.53 & 7.48 & 4.57 & 9.67\\\\\n",
       "q & 9.71 & 16.18 & 8.61 & 8.50 & 8.78 & 10.15 & 8.58 & 9.21 & 8.60 & 7.61 & 13.23\\\\\n",
       "spacl-core & 10.84 & 14.27 & 9.30 & 8.30 & 8.54 & 9.24 & 9.44 & 10.44 & 9.43 & 5.86 & 12.61\\\\\n",
       "zip-a-folder & 12.38 & 24.60 & 9.85 & 9.79 & 9.93 & 10.12 & 10.10 & 9.02 & 10.05 & 5.33 & 11.61\\\\\n",
       "\\bottomrule\n",
       "\\end{tabular}"
      ]
     },
     "metadata": {},
     "output_type": "display_data"
    }
   ],
   "source": [
    "# calculate string edit distance between originalCode and replacement\n",
    "# mutants %>%\n",
    "# mutate(b=replacement,a=originalCode)%>%\n",
    "# head() %>%\n",
    "  # mutate(edit_distance = tidy_stringdist(a, b, method = \"jaccard\"))\n",
    "\n",
    "# mutants%>% head()\n",
    "mutants %>% group_by(project,model,template,temperature) %>% summarise(mean_edit_distance = mean(lv)) %>% ungroup() %>% \n",
    "mutate(mean_edit_distance = round(mean_edit_distance,2)) %>%\n",
    "pivot_wider(names_from=c(\"model\",\"template\",\"temperature\"), values_from=mean_edit_distance) %>%\n",
    "kable(format.args = list(big.mark = \",\"), escape = F,\n",
    " format = \"latex\",booktabs = TRUE, linesep = \"\")"
   ]
  },
  {
   "cell_type": "code",
   "execution_count": 4,
   "metadata": {
    "vscode": {
     "languageId": "r"
    }
   },
   "outputs": [
    {
     "ename": "ERROR",
     "evalue": "\u001b[1m\u001b[33mError\u001b[39m in `pivot_wider()`:\u001b[22m\n\u001b[33m!\u001b[39m Can't subset columns that don't exist.\n\u001b[31m✖\u001b[39m Column `name` doesn't exist.\n",
     "output_type": "error",
     "traceback": [
      "\u001b[1m\u001b[33mError\u001b[39m in `pivot_wider()`:\u001b[22m\n\u001b[33m!\u001b[39m Can't subset columns that don't exist.\n\u001b[31m✖\u001b[39m Column `name` doesn't exist.\nTraceback:\n",
      "1. mutants %>% filter(project == \"image-downloader\" & (template == \n .     \"full\" | template == \"basic\") & temperature == \"0.0\") %>% \n .     pivot_wider()",
      "2. pivot_wider(.)",
      "3. pivot_wider.data.frame(.)",
      "4. build_wider_spec(data = data, names_from = !!names_from, values_from = !!values_from, \n .     names_prefix = names_prefix, names_sep = names_sep, names_glue = names_glue, \n .     names_sort = names_sort, names_vary = names_vary, names_expand = names_expand, \n .     error_call = current_env())",
      "5. tidyselect::eval_select(enquo(names_from), data, allow_rename = FALSE, \n .     allow_empty = FALSE, error_call = error_call)",
      "6. eval_select_impl(data, names(data), as_quosure(expr, env), include = include, \n .     exclude = exclude, strict = strict, name_spec = name_spec, \n .     allow_rename = allow_rename, allow_empty = allow_empty, allow_predicates = allow_predicates, \n .     error_call = error_call, )",
      "7. with_subscript_errors(out <- vars_select_eval(vars, expr, strict = strict, \n .     data = x, name_spec = name_spec, uniquely_named = uniquely_named, \n .     allow_rename = allow_rename, allow_empty = allow_empty, allow_predicates = allow_predicates, \n .     type = type, error_call = error_call), type = type)",
      "8. try_fetch(expr, vctrs_error_subscript = function(cnd) {\n .     cnd$subscript_action <- subscript_action(type)\n .     cnd$subscript_elt <- \"column\"\n .     cnd_signal(cnd)\n . })",
      "9. withCallingHandlers(expr, condition = function(cnd) {\n .     {\n .         .__handler_frame__. <- TRUE\n .         .__setup_frame__. <- frame\n .         if (inherits(cnd, \"message\")) {\n .             except <- c(\"warning\", \"error\")\n .         }\n .         else if (inherits(cnd, \"warning\")) {\n .             except <- \"error\"\n .         }\n .         else {\n .             except <- \"\"\n .         }\n .     }\n .     while (!is_null(cnd)) {\n .         if (inherits(cnd, \"vctrs_error_subscript\")) {\n .             out <- handlers[[1L]](cnd)\n .             if (!inherits(out, \"rlang_zap\")) \n .                 throw(out)\n .         }\n .         inherit <- .subset2(.subset2(cnd, \"rlang\"), \"inherit\")\n .         if (is_false(inherit)) {\n .             return()\n .         }\n .         cnd <- .subset2(cnd, \"parent\")\n .     }\n . })",
      "10. vars_select_eval(vars, expr, strict = strict, data = x, name_spec = name_spec, \n  .     uniquely_named = uniquely_named, allow_rename = allow_rename, \n  .     allow_empty = allow_empty, allow_predicates = allow_predicates, \n  .     type = type, error_call = error_call)",
      "11. walk_data_tree(expr, data_mask, context_mask)",
      "12. as_indices_sel_impl(out, vars = vars, strict = strict, data = data, \n  .     allow_predicates = allow_predicates, call = error_call, arg = as_label(expr))",
      "13. as_indices_impl(x, vars, call = call, arg = arg, strict = strict)",
      "14. chr_as_locations(x, vars, call = call, arg = arg)",
      "15. vctrs::vec_as_location(x, n = length(vars), names = vars, call = call, \n  .     arg = arg)",
      "16. (function () \n  . stop_subscript_oob(i = i, subscript_type = subscript_type, names = names, \n  .     subscript_action = subscript_action, subscript_arg = subscript_arg, \n  .     call = call))()",
      "17. stop_subscript_oob(i = i, subscript_type = subscript_type, names = names, \n  .     subscript_action = subscript_action, subscript_arg = subscript_arg, \n  .     call = call)",
      "18. stop_subscript(class = \"vctrs_error_subscript_oob\", i = i, subscript_type = subscript_type, \n  .     ..., call = call)",
      "19. abort(class = c(class, \"vctrs_error_subscript\"), i = i, ..., \n  .     call = call)",
      "20. signal_abort(cnd, .file)",
      "21. signalCondition(cnd)",
      "22. (function (cnd) \n  . {\n  .     {\n  .         .__handler_frame__. <- TRUE\n  .         .__setup_frame__. <- frame\n  .         if (inherits(cnd, \"message\")) {\n  .             except <- c(\"warning\", \"error\")\n  .         }\n  .         else if (inherits(cnd, \"warning\")) {\n  .             except <- \"error\"\n  .         }\n  .         else {\n  .             except <- \"\"\n  .         }\n  .     }\n  .     while (!is_null(cnd)) {\n  .         if (inherits(cnd, \"vctrs_error_subscript\")) {\n  .             out <- handlers[[1L]](cnd)\n  .             if (!inherits(out, \"rlang_zap\")) \n  .                 throw(out)\n  .         }\n  .         inherit <- .subset2(.subset2(cnd, \"rlang\"), \"inherit\")\n  .         if (is_false(inherit)) {\n  .             return()\n  .         }\n  .         cnd <- .subset2(cnd, \"parent\")\n  .     }\n  . })(structure(list(message = \"\", trace = structure(list(call = list(\n  .     IRkernel::main(), kernel$run(), handle_shell(), executor$execute(msg), \n  .     tryCatch(evaluate(request$content$code, envir = .GlobalEnv, \n  .         output_handler = oh, stop_on_error = 1L), interrupt = function(cond) {\n  .         log_debug(\"Interrupt during execution\")\n  .         interrupted <<- TRUE\n  .     }, error = .self$handle_error), tryCatchList(expr, classes, \n  .         parentenv, handlers), tryCatchOne(tryCatchList(expr, \n  .         names[-nh], parentenv, handlers[-nh]), names[nh], parentenv, \n  .         handlers[[nh]]), doTryCatch(return(expr), name, parentenv, \n  .         handler), tryCatchList(expr, names[-nh], parentenv, handlers[-nh]), \n  .     tryCatchOne(expr, names, parentenv, handlers[[1L]]), doTryCatch(return(expr), \n  .         name, parentenv, handler), evaluate(request$content$code, \n  .         envir = .GlobalEnv, output_handler = oh, stop_on_error = 1L), \n  .     evaluate_call(expr, parsed$src[[i]], envir = envir, enclos = enclos, \n  .         debug = debug, last = i == length(out), use_try = stop_on_error != \n  .             2L, keep_warning = keep_warning, keep_message = keep_message, \n  .         log_echo = log_echo, log_warning = log_warning, output_handler = output_handler, \n  .         include_timing = include_timing), timing_fn(handle(ev <- withCallingHandlers(withVisible(eval_with_user_handlers(expr, \n  .         envir, enclos, user_handlers)), warning = wHandler, error = eHandler, \n  .         message = mHandler))), handle(ev <- withCallingHandlers(withVisible(eval_with_user_handlers(expr, \n  .         envir, enclos, user_handlers)), warning = wHandler, error = eHandler, \n  .         message = mHandler)), try(f, silent = TRUE), tryCatch(expr, \n  .         error = function(e) {\n  .             call <- conditionCall(e)\n  .             if (!is.null(call)) {\n  .                 if (identical(call[[1L]], quote(doTryCatch))) \n  .                   call <- sys.call(-4L)\n  .                 dcall <- deparse(call, nlines = 1L)\n  .                 prefix <- paste(\"Error in\", dcall, \": \")\n  .                 LONG <- 75L\n  .                 sm <- strsplit(conditionMessage(e), \"\\n\")[[1L]]\n  .                 w <- 14L + nchar(dcall, type = \"w\") + nchar(sm[1L], \n  .                   type = \"w\")\n  .                 if (is.na(w)) \n  .                   w <- 14L + nchar(dcall, type = \"b\") + nchar(sm[1L], \n  .                     type = \"b\")\n  .                 if (w > LONG) \n  .                   prefix <- paste0(prefix, \"\\n  \")\n  .             }\n  .             else prefix <- \"Error : \"\n  .             msg <- paste0(prefix, conditionMessage(e), \"\\n\")\n  .             .Internal(seterrmessage(msg[1L]))\n  .             if (!silent && isTRUE(getOption(\"show.error.messages\"))) {\n  .                 cat(msg, file = outFile)\n  .                 .Internal(printDeferredWarnings())\n  .             }\n  .             invisible(structure(msg, class = \"try-error\", condition = e))\n  .         }), tryCatchList(expr, classes, parentenv, handlers), \n  .     tryCatchOne(expr, names, parentenv, handlers[[1L]]), doTryCatch(return(expr), \n  .         name, parentenv, handler), withCallingHandlers(withVisible(eval_with_user_handlers(expr, \n  .         envir, enclos, user_handlers)), warning = wHandler, error = eHandler, \n  .         message = mHandler), withVisible(eval_with_user_handlers(expr, \n  .         envir, enclos, user_handlers)), eval_with_user_handlers(expr, \n  .         envir, enclos, user_handlers), eval(expr, envir, enclos), \n  .     eval(expr, envir, enclos), mutants %>% filter(project == \n  .         \"image-downloader\" & (template == \"full\" | template == \n  .         \"basic\") & temperature == \"0.0\") %>% pivot_wider(), pivot_wider(.), \n  .     pivot_wider.data.frame(.), build_wider_spec(data = data, \n  .         names_from = !!names_from, values_from = !!values_from, \n  .         names_prefix = names_prefix, names_sep = names_sep, names_glue = names_glue, \n  .         names_sort = names_sort, names_vary = names_vary, names_expand = names_expand, \n  .         error_call = current_env()), tidyselect::eval_select(enquo(names_from), \n  .         data, allow_rename = FALSE, allow_empty = FALSE, error_call = error_call), \n  .     eval_select_impl(data, names(data), as_quosure(expr, env), \n  .         include = include, exclude = exclude, strict = strict, \n  .         name_spec = name_spec, allow_rename = allow_rename, allow_empty = allow_empty, \n  .         allow_predicates = allow_predicates, error_call = error_call, \n  .         ), with_subscript_errors(out <- vars_select_eval(vars, \n  .         expr, strict = strict, data = x, name_spec = name_spec, \n  .         uniquely_named = uniquely_named, allow_rename = allow_rename, \n  .         allow_empty = allow_empty, allow_predicates = allow_predicates, \n  .         type = type, error_call = error_call), type = type), \n  .     try_fetch(expr, vctrs_error_subscript = function(cnd) {\n  .         cnd$subscript_action <- subscript_action(type)\n  .         cnd$subscript_elt <- \"column\"\n  .         cnd_signal(cnd)\n  .     }), withCallingHandlers(expr, condition = function(cnd) {\n  .         {\n  .             .__handler_frame__. <- TRUE\n  .             .__setup_frame__. <- frame\n  .             if (inherits(cnd, \"message\")) {\n  .                 except <- c(\"warning\", \"error\")\n  .             }\n  .             else if (inherits(cnd, \"warning\")) {\n  .                 except <- \"error\"\n  .             }\n  .             else {\n  .                 except <- \"\"\n  .             }\n  .         }\n  .         while (!is_null(cnd)) {\n  .             if (inherits(cnd, \"vctrs_error_subscript\")) {\n  .                 out <- handlers[[1L]](cnd)\n  .                 if (!inherits(out, \"rlang_zap\")) \n  .                   throw(out)\n  .             }\n  .             inherit <- .subset2(.subset2(cnd, \"rlang\"), \"inherit\")\n  .             if (is_false(inherit)) {\n  .                 return()\n  .             }\n  .             cnd <- .subset2(cnd, \"parent\")\n  .         }\n  .     }), vars_select_eval(vars, expr, strict = strict, data = x, \n  .         name_spec = name_spec, uniquely_named = uniquely_named, \n  .         allow_rename = allow_rename, allow_empty = allow_empty, \n  .         allow_predicates = allow_predicates, type = type, error_call = error_call), \n  .     walk_data_tree(expr, data_mask, context_mask), as_indices_sel_impl(out, \n  .         vars = vars, strict = strict, data = data, allow_predicates = allow_predicates, \n  .         call = error_call, arg = as_label(expr)), as_indices_impl(x, \n  .         vars, call = call, arg = arg, strict = strict), chr_as_locations(x, \n  .         vars, call = call, arg = arg), vctrs::vec_as_location(x, \n  .         n = length(vars), names = vars, call = call, arg = arg), \n  .     `<fn>`(), stop_subscript_oob(i = i, subscript_type = subscript_type, \n  .         names = names, subscript_action = subscript_action, subscript_arg = subscript_arg, \n  .         call = call), stop_subscript(class = \"vctrs_error_subscript_oob\", \n  .         i = i, subscript_type = subscript_type, ..., call = call), \n  .     abort(class = c(class, \"vctrs_error_subscript\"), i = i, ..., \n  .         call = call)), parent = c(0L, 1L, 2L, 3L, 4L, 5L, 6L, \n  . 7L, 6L, 9L, 10L, 4L, 12L, 13L, 13L, 15L, 16L, 17L, 18L, 19L, \n  . 13L, 13L, 13L, 23L, 24L, 0L, 0L, 0L, 28L, 29L, 30L, 31L, 32L, \n  . 33L, 31L, 35L, 36L, 37L, 38L, 39L, 0L, 41L, 42L, 43L), visible = c(TRUE, \n  . TRUE, TRUE, TRUE, TRUE, TRUE, TRUE, TRUE, TRUE, TRUE, TRUE, TRUE, \n  . TRUE, TRUE, TRUE, TRUE, TRUE, TRUE, TRUE, TRUE, TRUE, TRUE, TRUE, \n  . TRUE, TRUE, TRUE, TRUE, TRUE, FALSE, FALSE, FALSE, FALSE, FALSE, \n  . FALSE, FALSE, FALSE, FALSE, FALSE, FALSE, FALSE, FALSE, FALSE, \n  . FALSE, FALSE), namespace = c(\"IRkernel\", NA, \"IRkernel\", NA, \n  . \"base\", \"base\", \"base\", \"base\", \"base\", \"base\", \"base\", \"evaluate\", \n  . \"evaluate\", \"evaluate\", \"evaluate\", \"base\", \"base\", \"base\", \"base\", \n  . \"base\", \"base\", \"base\", \"evaluate\", \"base\", \"base\", NA, \"tidyr\", \n  . \"tidyr\", \"tidyr\", \"tidyselect\", \"tidyselect\", \"tidyselect\", \"rlang\", \n  . \"base\", \"tidyselect\", \"tidyselect\", \"tidyselect\", \"tidyselect\", \n  . \"tidyselect\", \"vctrs\", \"vctrs\", \"vctrs\", \"vctrs\", \"rlang\"), scope = c(\"::\", \n  . NA, \"local\", NA, \"::\", \"local\", \"local\", \"local\", \"local\", \"local\", \n  . \"local\", \"::\", \":::\", \"local\", \"local\", \"::\", \"::\", \"local\", \n  . \"local\", \"local\", \"::\", \"::\", \":::\", \"::\", \"::\", NA, \"::\", \":::\", \n  . \"::\", \"::\", \":::\", \":::\", \"::\", \"::\", \":::\", \":::\", \":::\", \":::\", \n  . \":::\", \"::\", \"local\", \":::\", \":::\", \"::\"), error_frame = c(FALSE, \n  . FALSE, FALSE, FALSE, FALSE, FALSE, FALSE, FALSE, FALSE, FALSE, \n  . FALSE, FALSE, FALSE, FALSE, FALSE, FALSE, FALSE, FALSE, FALSE, \n  . FALSE, FALSE, FALSE, FALSE, FALSE, FALSE, FALSE, FALSE, TRUE, \n  . FALSE, FALSE, FALSE, FALSE, FALSE, FALSE, FALSE, FALSE, FALSE, \n  . FALSE, FALSE, FALSE, FALSE, FALSE, FALSE, FALSE)), row.names = c(NA, \n  . -44L), version = 2L, class = c(\"rlang_trace\", \"rlib_trace\", \"tbl\", \n  . \"data.frame\")), parent = NULL, i = \"name\", subscript_type = \"character\", \n  .     names = c(\"model\", \"template\", \"temperature\", \"run\", \"project\", \n  .     \"startLine\", \"startColumn\", \"endLine\", \"endColumn\", \"originalCode\", \n  .     \"replacement\", \"promptId\", \"completionId\", \"reason\", \"lv\"\n  .     ), subscript_action = NULL, subscript_arg = \"name\", rlang = list(\n  .         inherit = TRUE), call = pivot_wider(.)), class = c(\"vctrs_error_subscript_oob\", \n  . \"vctrs_error_subscript\", \"rlang_error\", \"error\", \"condition\")))",
      "23. handlers[[1L]](cnd)",
      "24. cnd_signal(cnd)",
      "25. signal_abort(cnd)"
     ]
    }
   ],
   "source": [
    "mutants %>% filter(project=='image-downloader' & (template=='full' | template=='basic') & temperature=='0.0') %>%\n",
    "pivot_wider()"
   ]
  },
  {
   "cell_type": "code",
   "execution_count": null,
   "metadata": {
    "vscode": {
     "languageId": "r"
    }
   },
   "outputs": [],
   "source": [
    "mutants_baseline <- mutants %>% filter(template=='full' & temperature=='0.0' & model=='codellama-34b-instruct')"
   ]
  },
  {
   "cell_type": "code",
   "execution_count": null,
   "metadata": {
    "vscode": {
     "languageId": "r"
    }
   },
   "outputs": [
    {
     "name": "stderr",
     "output_type": "stream",
     "text": [
      "\u001b[1m\u001b[22m`summarise()` has grouped output by 'project', 'model', 'template'. You can\n",
      "override using the `.groups` argument.\n"
     ]
    },
    {
     "data": {
      "text/html": [
       "<table class=\"dataframe\">\n",
       "<caption>A tibble: 13 × 11</caption>\n",
       "<thead>\n",
       "\t<tr><th scope=col>project</th><th scope=col>codellama-13b-instruct_full_0.0</th><th scope=col>codellama-34b-instruct_basic_0.0</th><th scope=col>codellama-34b-instruct_full_0.25</th><th scope=col>codellama-34b-instruct_full_0.5</th><th scope=col>codellama-34b-instruct_full_1.0</th><th scope=col>codellama-34b-instruct_full_genericsystemprompt-0.0</th><th scope=col>codellama-34b-instruct_noexplanation_0.0</th><th scope=col>codellama-34b-instruct_noinstructions_0.0</th><th scope=col>codellama-34b-instruct_onemutation_0.0</th><th scope=col>mixtral-8x7b-instruct_full_0.0</th></tr>\n",
       "\t<tr><th scope=col>&lt;chr&gt;</th><th scope=col>&lt;dbl&gt;</th><th scope=col>&lt;dbl&gt;</th><th scope=col>&lt;dbl&gt;</th><th scope=col>&lt;dbl&gt;</th><th scope=col>&lt;dbl&gt;</th><th scope=col>&lt;dbl&gt;</th><th scope=col>&lt;dbl&gt;</th><th scope=col>&lt;dbl&gt;</th><th scope=col>&lt;dbl&gt;</th><th scope=col>&lt;dbl&gt;</th></tr>\n",
       "</thead>\n",
       "<tbody>\n",
       "\t<tr><td>Complex.js             </td><td>3.029531</td><td> 8.892899</td><td>1.978023</td><td>2.448525</td><td>4.379572</td><td>1.636050</td><td>2.346533</td><td>1.968825</td><td>1.858666</td><td> 6.205143</td></tr>\n",
       "\t<tr><td>countries-and-timezones</td><td>7.731699</td><td> 6.927419</td><td>5.964977</td><td>6.580906</td><td>8.674877</td><td>5.661265</td><td>6.633782</td><td>6.751040</td><td>6.127778</td><td> 9.216538</td></tr>\n",
       "\t<tr><td>crawler-url-parser     </td><td>6.407374</td><td>17.646591</td><td>4.714363</td><td>6.072846</td><td>8.710418</td><td>4.246158</td><td>4.992904</td><td>4.371172</td><td>3.949206</td><td>10.252970</td></tr>\n",
       "\t<tr><td>delta                  </td><td>6.173866</td><td>12.739788</td><td>4.024385</td><td>5.215778</td><td>7.883530</td><td>3.554530</td><td>4.605344</td><td>4.742474</td><td>3.989054</td><td> 9.268240</td></tr>\n",
       "\t<tr><td>image-downloader       </td><td>6.559651</td><td>17.385714</td><td>5.674227</td><td>6.432223</td><td>8.670696</td><td>5.374587</td><td>5.788618</td><td>5.784014</td><td>4.718535</td><td> 9.222222</td></tr>\n",
       "\t<tr><td>node-dirty             </td><td>4.308391</td><td> 9.668621</td><td>3.963428</td><td>4.584016</td><td>6.511032</td><td>3.290323</td><td>3.682717</td><td>4.050228</td><td>3.326154</td><td> 7.980945</td></tr>\n",
       "\t<tr><td>node-geo-point         </td><td>6.461708</td><td>14.053691</td><td>3.127130</td><td>4.589208</td><td>7.294772</td><td>2.596789</td><td>3.227074</td><td>3.991463</td><td>3.732180</td><td>11.665262</td></tr>\n",
       "\t<tr><td>node-jsonfile          </td><td>5.977654</td><td> 8.066667</td><td>4.964872</td><td>5.884913</td><td>8.132706</td><td>5.026067</td><td>4.859899</td><td>5.493874</td><td>4.400524</td><td> 7.524360</td></tr>\n",
       "\t<tr><td>plural                 </td><td>7.116323</td><td>20.358684</td><td>5.156992</td><td>6.015751</td><td>8.590891</td><td>4.239615</td><td>5.627558</td><td>5.120312</td><td>4.388862</td><td> 9.392463</td></tr>\n",
       "\t<tr><td>pull-stream            </td><td>5.208274</td><td> 7.742737</td><td>3.474531</td><td>3.897119</td><td>5.137072</td><td>3.357048</td><td>3.757894</td><td>4.301716</td><td>3.365128</td><td> 6.068680</td></tr>\n",
       "\t<tr><td>q                      </td><td>6.183249</td><td>11.048737</td><td>3.925634</td><td>4.715164</td><td>6.457132</td><td>3.368099</td><td>4.634959</td><td>4.165708</td><td>4.334220</td><td> 9.424085</td></tr>\n",
       "\t<tr><td>spacl-core             </td><td>7.461538</td><td>10.587952</td><td>5.269368</td><td>6.123014</td><td>7.726272</td><td>5.109531</td><td>6.321461</td><td>5.739273</td><td>5.093184</td><td>10.313216</td></tr>\n",
       "\t<tr><td>zip-a-folder           </td><td>6.802500</td><td>15.903571</td><td>5.012405</td><td>5.846969</td><td>7.221127</td><td>4.726056</td><td>5.050584</td><td>5.695489</td><td>5.428000</td><td> 8.314523</td></tr>\n",
       "</tbody>\n",
       "</table>\n"
      ],
      "text/latex": [
       "A tibble: 13 × 11\n",
       "\\begin{tabular}{lllllllllll}\n",
       " project & codellama-13b-instruct\\_full\\_0.0 & codellama-34b-instruct\\_basic\\_0.0 & codellama-34b-instruct\\_full\\_0.25 & codellama-34b-instruct\\_full\\_0.5 & codellama-34b-instruct\\_full\\_1.0 & codellama-34b-instruct\\_full\\_genericsystemprompt-0.0 & codellama-34b-instruct\\_noexplanation\\_0.0 & codellama-34b-instruct\\_noinstructions\\_0.0 & codellama-34b-instruct\\_onemutation\\_0.0 & mixtral-8x7b-instruct\\_full\\_0.0\\\\\n",
       " <chr> & <dbl> & <dbl> & <dbl> & <dbl> & <dbl> & <dbl> & <dbl> & <dbl> & <dbl> & <dbl>\\\\\n",
       "\\hline\n",
       "\t Complex.js              & 3.029531 &  8.892899 & 1.978023 & 2.448525 & 4.379572 & 1.636050 & 2.346533 & 1.968825 & 1.858666 &  6.205143\\\\\n",
       "\t countries-and-timezones & 7.731699 &  6.927419 & 5.964977 & 6.580906 & 8.674877 & 5.661265 & 6.633782 & 6.751040 & 6.127778 &  9.216538\\\\\n",
       "\t crawler-url-parser      & 6.407374 & 17.646591 & 4.714363 & 6.072846 & 8.710418 & 4.246158 & 4.992904 & 4.371172 & 3.949206 & 10.252970\\\\\n",
       "\t delta                   & 6.173866 & 12.739788 & 4.024385 & 5.215778 & 7.883530 & 3.554530 & 4.605344 & 4.742474 & 3.989054 &  9.268240\\\\\n",
       "\t image-downloader        & 6.559651 & 17.385714 & 5.674227 & 6.432223 & 8.670696 & 5.374587 & 5.788618 & 5.784014 & 4.718535 &  9.222222\\\\\n",
       "\t node-dirty              & 4.308391 &  9.668621 & 3.963428 & 4.584016 & 6.511032 & 3.290323 & 3.682717 & 4.050228 & 3.326154 &  7.980945\\\\\n",
       "\t node-geo-point          & 6.461708 & 14.053691 & 3.127130 & 4.589208 & 7.294772 & 2.596789 & 3.227074 & 3.991463 & 3.732180 & 11.665262\\\\\n",
       "\t node-jsonfile           & 5.977654 &  8.066667 & 4.964872 & 5.884913 & 8.132706 & 5.026067 & 4.859899 & 5.493874 & 4.400524 &  7.524360\\\\\n",
       "\t plural                  & 7.116323 & 20.358684 & 5.156992 & 6.015751 & 8.590891 & 4.239615 & 5.627558 & 5.120312 & 4.388862 &  9.392463\\\\\n",
       "\t pull-stream             & 5.208274 &  7.742737 & 3.474531 & 3.897119 & 5.137072 & 3.357048 & 3.757894 & 4.301716 & 3.365128 &  6.068680\\\\\n",
       "\t q                       & 6.183249 & 11.048737 & 3.925634 & 4.715164 & 6.457132 & 3.368099 & 4.634959 & 4.165708 & 4.334220 &  9.424085\\\\\n",
       "\t spacl-core              & 7.461538 & 10.587952 & 5.269368 & 6.123014 & 7.726272 & 5.109531 & 6.321461 & 5.739273 & 5.093184 & 10.313216\\\\\n",
       "\t zip-a-folder            & 6.802500 & 15.903571 & 5.012405 & 5.846969 & 7.221127 & 4.726056 & 5.050584 & 5.695489 & 5.428000 &  8.314523\\\\\n",
       "\\end{tabular}\n"
      ],
      "text/markdown": [
       "\n",
       "A tibble: 13 × 11\n",
       "\n",
       "| project &lt;chr&gt; | codellama-13b-instruct_full_0.0 &lt;dbl&gt; | codellama-34b-instruct_basic_0.0 &lt;dbl&gt; | codellama-34b-instruct_full_0.25 &lt;dbl&gt; | codellama-34b-instruct_full_0.5 &lt;dbl&gt; | codellama-34b-instruct_full_1.0 &lt;dbl&gt; | codellama-34b-instruct_full_genericsystemprompt-0.0 &lt;dbl&gt; | codellama-34b-instruct_noexplanation_0.0 &lt;dbl&gt; | codellama-34b-instruct_noinstructions_0.0 &lt;dbl&gt; | codellama-34b-instruct_onemutation_0.0 &lt;dbl&gt; | mixtral-8x7b-instruct_full_0.0 &lt;dbl&gt; |\n",
       "|---|---|---|---|---|---|---|---|---|---|---|\n",
       "| Complex.js              | 3.029531 |  8.892899 | 1.978023 | 2.448525 | 4.379572 | 1.636050 | 2.346533 | 1.968825 | 1.858666 |  6.205143 |\n",
       "| countries-and-timezones | 7.731699 |  6.927419 | 5.964977 | 6.580906 | 8.674877 | 5.661265 | 6.633782 | 6.751040 | 6.127778 |  9.216538 |\n",
       "| crawler-url-parser      | 6.407374 | 17.646591 | 4.714363 | 6.072846 | 8.710418 | 4.246158 | 4.992904 | 4.371172 | 3.949206 | 10.252970 |\n",
       "| delta                   | 6.173866 | 12.739788 | 4.024385 | 5.215778 | 7.883530 | 3.554530 | 4.605344 | 4.742474 | 3.989054 |  9.268240 |\n",
       "| image-downloader        | 6.559651 | 17.385714 | 5.674227 | 6.432223 | 8.670696 | 5.374587 | 5.788618 | 5.784014 | 4.718535 |  9.222222 |\n",
       "| node-dirty              | 4.308391 |  9.668621 | 3.963428 | 4.584016 | 6.511032 | 3.290323 | 3.682717 | 4.050228 | 3.326154 |  7.980945 |\n",
       "| node-geo-point          | 6.461708 | 14.053691 | 3.127130 | 4.589208 | 7.294772 | 2.596789 | 3.227074 | 3.991463 | 3.732180 | 11.665262 |\n",
       "| node-jsonfile           | 5.977654 |  8.066667 | 4.964872 | 5.884913 | 8.132706 | 5.026067 | 4.859899 | 5.493874 | 4.400524 |  7.524360 |\n",
       "| plural                  | 7.116323 | 20.358684 | 5.156992 | 6.015751 | 8.590891 | 4.239615 | 5.627558 | 5.120312 | 4.388862 |  9.392463 |\n",
       "| pull-stream             | 5.208274 |  7.742737 | 3.474531 | 3.897119 | 5.137072 | 3.357048 | 3.757894 | 4.301716 | 3.365128 |  6.068680 |\n",
       "| q                       | 6.183249 | 11.048737 | 3.925634 | 4.715164 | 6.457132 | 3.368099 | 4.634959 | 4.165708 | 4.334220 |  9.424085 |\n",
       "| spacl-core              | 7.461538 | 10.587952 | 5.269368 | 6.123014 | 7.726272 | 5.109531 | 6.321461 | 5.739273 | 5.093184 | 10.313216 |\n",
       "| zip-a-folder            | 6.802500 | 15.903571 | 5.012405 | 5.846969 | 7.221127 | 4.726056 | 5.050584 | 5.695489 | 5.428000 |  8.314523 |\n",
       "\n"
      ],
      "text/plain": [
       "   project                 codellama-13b-instruct_full_0.0\n",
       "1  Complex.js              3.029531                       \n",
       "2  countries-and-timezones 7.731699                       \n",
       "3  crawler-url-parser      6.407374                       \n",
       "4  delta                   6.173866                       \n",
       "5  image-downloader        6.559651                       \n",
       "6  node-dirty              4.308391                       \n",
       "7  node-geo-point          6.461708                       \n",
       "8  node-jsonfile           5.977654                       \n",
       "9  plural                  7.116323                       \n",
       "10 pull-stream             5.208274                       \n",
       "11 q                       6.183249                       \n",
       "12 spacl-core              7.461538                       \n",
       "13 zip-a-folder            6.802500                       \n",
       "   codellama-34b-instruct_basic_0.0 codellama-34b-instruct_full_0.25\n",
       "1   8.892899                        1.978023                        \n",
       "2   6.927419                        5.964977                        \n",
       "3  17.646591                        4.714363                        \n",
       "4  12.739788                        4.024385                        \n",
       "5  17.385714                        5.674227                        \n",
       "6   9.668621                        3.963428                        \n",
       "7  14.053691                        3.127130                        \n",
       "8   8.066667                        4.964872                        \n",
       "9  20.358684                        5.156992                        \n",
       "10  7.742737                        3.474531                        \n",
       "11 11.048737                        3.925634                        \n",
       "12 10.587952                        5.269368                        \n",
       "13 15.903571                        5.012405                        \n",
       "   codellama-34b-instruct_full_0.5 codellama-34b-instruct_full_1.0\n",
       "1  2.448525                        4.379572                       \n",
       "2  6.580906                        8.674877                       \n",
       "3  6.072846                        8.710418                       \n",
       "4  5.215778                        7.883530                       \n",
       "5  6.432223                        8.670696                       \n",
       "6  4.584016                        6.511032                       \n",
       "7  4.589208                        7.294772                       \n",
       "8  5.884913                        8.132706                       \n",
       "9  6.015751                        8.590891                       \n",
       "10 3.897119                        5.137072                       \n",
       "11 4.715164                        6.457132                       \n",
       "12 6.123014                        7.726272                       \n",
       "13 5.846969                        7.221127                       \n",
       "   codellama-34b-instruct_full_genericsystemprompt-0.0\n",
       "1  1.636050                                           \n",
       "2  5.661265                                           \n",
       "3  4.246158                                           \n",
       "4  3.554530                                           \n",
       "5  5.374587                                           \n",
       "6  3.290323                                           \n",
       "7  2.596789                                           \n",
       "8  5.026067                                           \n",
       "9  4.239615                                           \n",
       "10 3.357048                                           \n",
       "11 3.368099                                           \n",
       "12 5.109531                                           \n",
       "13 4.726056                                           \n",
       "   codellama-34b-instruct_noexplanation_0.0\n",
       "1  2.346533                                \n",
       "2  6.633782                                \n",
       "3  4.992904                                \n",
       "4  4.605344                                \n",
       "5  5.788618                                \n",
       "6  3.682717                                \n",
       "7  3.227074                                \n",
       "8  4.859899                                \n",
       "9  5.627558                                \n",
       "10 3.757894                                \n",
       "11 4.634959                                \n",
       "12 6.321461                                \n",
       "13 5.050584                                \n",
       "   codellama-34b-instruct_noinstructions_0.0\n",
       "1  1.968825                                 \n",
       "2  6.751040                                 \n",
       "3  4.371172                                 \n",
       "4  4.742474                                 \n",
       "5  5.784014                                 \n",
       "6  4.050228                                 \n",
       "7  3.991463                                 \n",
       "8  5.493874                                 \n",
       "9  5.120312                                 \n",
       "10 4.301716                                 \n",
       "11 4.165708                                 \n",
       "12 5.739273                                 \n",
       "13 5.695489                                 \n",
       "   codellama-34b-instruct_onemutation_0.0 mixtral-8x7b-instruct_full_0.0\n",
       "1  1.858666                                6.205143                     \n",
       "2  6.127778                                9.216538                     \n",
       "3  3.949206                               10.252970                     \n",
       "4  3.989054                                9.268240                     \n",
       "5  4.718535                                9.222222                     \n",
       "6  3.326154                                7.980945                     \n",
       "7  3.732180                               11.665262                     \n",
       "8  4.400524                                7.524360                     \n",
       "9  4.388862                                9.392463                     \n",
       "10 3.365128                                6.068680                     \n",
       "11 4.334220                                9.424085                     \n",
       "12 5.093184                               10.313216                     \n",
       "13 5.428000                                8.314523                     "
      ]
     },
     "metadata": {},
     "output_type": "display_data"
    }
   ],
   "source": [
    "mutants %>% filter(!(template=='full' & temperature=='0.0' & model=='codellama-34b-instruct')) %>%\n",
    "inner_join(mutants_baseline, by=c('project','startLine','endLine','startColumn','endColumn','originalCode'), suffix = c(\"\",\".baseline\"), relationship = \"many-to-many\")  %>% \n",
    "mutate(lvDiff=abs(lv - lv.baseline)) %>%\n",
    "group_by(project,model,template,temperature) %>% summarise(mean_lvDiff = mean(lvDiff)) %>% ungroup() %>%\n",
    "pivot_wider(names_from = c(\"model\",\"template\",\"temperature\"), values_from = mean_lvDiff) \n",
    "# select(project,template,temperature,run,model,originalCode,replacement.baseline,replacement,lvDiff)%>%\n",
    "# head()"
   ]
  }
 ],
 "metadata": {
  "kernelspec": {
   "display_name": "R",
   "language": "R",
   "name": "ir"
  },
  "language_info": {
   "codemirror_mode": "r",
   "file_extension": ".r",
   "mimetype": "text/x-r-source",
   "name": "R",
   "pygments_lexer": "r",
   "version": "4.3.2"
  }
 },
 "nbformat": 4,
 "nbformat_minor": 2
}
