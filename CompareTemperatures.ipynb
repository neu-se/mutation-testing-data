{
 "cells": [
  {
   "cell_type": "code",
   "execution_count": 1,
   "metadata": {
    "vscode": {
     "languageId": "r"
    }
   },
   "outputs": [
    {
     "name": "stderr",
     "output_type": "stream",
     "text": [
      "── \u001b[1mAttaching core tidyverse packages\u001b[22m ──────────────────────── tidyverse 2.0.0 ──\n",
      "\u001b[32m✔\u001b[39m \u001b[34mdplyr    \u001b[39m 1.1.2     \u001b[32m✔\u001b[39m \u001b[34mreadr    \u001b[39m 2.1.4\n",
      "\u001b[32m✔\u001b[39m \u001b[34mforcats  \u001b[39m 1.0.0     \u001b[32m✔\u001b[39m \u001b[34mstringr  \u001b[39m 1.5.0\n",
      "\u001b[32m✔\u001b[39m \u001b[34mggplot2  \u001b[39m 3.4.3     \u001b[32m✔\u001b[39m \u001b[34mtibble   \u001b[39m 3.2.1\n",
      "\u001b[32m✔\u001b[39m \u001b[34mlubridate\u001b[39m 1.9.2     \u001b[32m✔\u001b[39m \u001b[34mtidyr    \u001b[39m 1.3.0\n",
      "\u001b[32m✔\u001b[39m \u001b[34mpurrr    \u001b[39m 1.0.2     \n",
      "── \u001b[1mConflicts\u001b[22m ────────────────────────────────────────── tidyverse_conflicts() ──\n",
      "\u001b[31m✖\u001b[39m \u001b[34mdplyr\u001b[39m::\u001b[32mfilter()\u001b[39m masks \u001b[34mstats\u001b[39m::filter()\n",
      "\u001b[31m✖\u001b[39m \u001b[34mdplyr\u001b[39m::\u001b[32mlag()\u001b[39m    masks \u001b[34mstats\u001b[39m::lag()\n",
      "\u001b[36mℹ\u001b[39m Use the conflicted package (\u001b[3m\u001b[34m<http://conflicted.r-lib.org/>\u001b[39m\u001b[23m) to force all conflicts to become errors\n"
     ]
    }
   ],
   "source": [
    "library(tidyverse)\n",
    "library(ggplot2)\n",
    "df <-  read.csv(\"derived-results/temperature-comparison.csv\")"
   ]
  },
  {
   "cell_type": "code",
   "execution_count": 2,
   "metadata": {
    "vscode": {
     "languageId": "r"
    }
   },
   "outputs": [
    {
     "name": "stderr",
     "output_type": "stream",
     "text": [
      "Warning message:\n",
      "“\u001b[1m\u001b[22m`funs()` was deprecated in dplyr 0.8.0.\n",
      "\u001b[36mℹ\u001b[39m Please use a list of either functions or lambdas:\n",
      "\n",
      "# Simple named list: list(mean = mean, median = median)\n",
      "\n",
      "# Auto named with `tibble::lst()`: tibble::lst(mean, median)\n",
      "\n",
      "# Using lambdas list(~ mean(., trim = .2), ~ median(., na.rm = TRUE))”\n",
      "Warning message:\n",
      "“\u001b[1m\u001b[22m`funs()` was deprecated in dplyr 0.8.0.\n",
      "\u001b[36mℹ\u001b[39m Please use a list of either functions or lambdas:\n",
      "\n",
      "# Simple named list: list(mean = mean, median = median)\n",
      "\n",
      "# Auto named with `tibble::lst()`: tibble::lst(mean, median)\n",
      "\n",
      "# Using lambdas list(~ mean(., trim = .2), ~ median(., na.rm = TRUE))”\n"
     ]
    },
    {
     "data": {
      "text/html": [
       "<table class=\"dataframe\">\n",
       "<caption>A tibble: 13 × 8</caption>\n",
       "<thead>\n",
       "\t<tr><th scope=col>project</th><th scope=col>status.0.25.More Killed</th><th scope=col>status.0.25.Less Killed</th><th scope=col>status.0.5.Less Killed</th><th scope=col>status.0.5.More Killed</th><th scope=col>status.0.75.Less Killed</th><th scope=col>status.1.0.Less Killed</th><th scope=col>status.1.0.More Killed</th></tr>\n",
       "\t<tr><th scope=col>&lt;chr&gt;</th><th scope=col>&lt;dbl&gt;</th><th scope=col>&lt;dbl&gt;</th><th scope=col>&lt;dbl&gt;</th><th scope=col>&lt;dbl&gt;</th><th scope=col>&lt;dbl&gt;</th><th scope=col>&lt;dbl&gt;</th><th scope=col>&lt;dbl&gt;</th></tr>\n",
       "</thead>\n",
       "<tbody>\n",
       "\t<tr><td>Complex.js             </td><td>28</td><td>27</td><td>55</td><td>50</td><td>264</td><td>110</td><td>63</td></tr>\n",
       "\t<tr><td>countries-and-timezones</td><td>11</td><td>13</td><td>14</td><td>15</td><td> 68</td><td> 34</td><td>14</td></tr>\n",
       "\t<tr><td>crawler-url-parser     </td><td>16</td><td>12</td><td>22</td><td>34</td><td> 66</td><td> 25</td><td>46</td></tr>\n",
       "\t<tr><td>delta                  </td><td>37</td><td>65</td><td>61</td><td>68</td><td>242</td><td> 99</td><td>83</td></tr>\n",
       "\t<tr><td>image-downloader       </td><td> 4</td><td> 4</td><td>11</td><td> 6</td><td> 29</td><td> 12</td><td> 3</td></tr>\n",
       "\t<tr><td>node-dirty             </td><td>15</td><td> 8</td><td>17</td><td>13</td><td> 65</td><td> 28</td><td>24</td></tr>\n",
       "\t<tr><td>node-geo-point         </td><td>22</td><td>15</td><td>22</td><td>26</td><td> 87</td><td> 32</td><td>36</td></tr>\n",
       "\t<tr><td>node-jsonfile          </td><td>13</td><td> 6</td><td> 4</td><td>11</td><td> 20</td><td>  7</td><td>15</td></tr>\n",
       "\t<tr><td>plural                 </td><td>19</td><td>15</td><td>17</td><td>29</td><td> 86</td><td> 26</td><td>41</td></tr>\n",
       "\t<tr><td>pull-stream            </td><td>28</td><td>23</td><td>45</td><td>56</td><td>182</td><td> 59</td><td>66</td></tr>\n",
       "\t<tr><td>q                      </td><td>11</td><td>13</td><td>17</td><td>25</td><td> 61</td><td> 29</td><td>26</td></tr>\n",
       "\t<tr><td>spacl-core             </td><td> 0</td><td> 0</td><td>20</td><td>20</td><td> 78</td><td> 33</td><td>19</td></tr>\n",
       "\t<tr><td>zip-a-folder           </td><td> 2</td><td> 3</td><td> 5</td><td>15</td><td> 12</td><td>  7</td><td>18</td></tr>\n",
       "</tbody>\n",
       "</table>\n"
      ],
      "text/latex": [
       "A tibble: 13 × 8\n",
       "\\begin{tabular}{llllllll}\n",
       " project & status.0.25.More Killed & status.0.25.Less Killed & status.0.5.Less Killed & status.0.5.More Killed & status.0.75.Less Killed & status.1.0.Less Killed & status.1.0.More Killed\\\\\n",
       " <chr> & <dbl> & <dbl> & <dbl> & <dbl> & <dbl> & <dbl> & <dbl>\\\\\n",
       "\\hline\n",
       "\t Complex.js              & 28 & 27 & 55 & 50 & 264 & 110 & 63\\\\\n",
       "\t countries-and-timezones & 11 & 13 & 14 & 15 &  68 &  34 & 14\\\\\n",
       "\t crawler-url-parser      & 16 & 12 & 22 & 34 &  66 &  25 & 46\\\\\n",
       "\t delta                   & 37 & 65 & 61 & 68 & 242 &  99 & 83\\\\\n",
       "\t image-downloader        &  4 &  4 & 11 &  6 &  29 &  12 &  3\\\\\n",
       "\t node-dirty              & 15 &  8 & 17 & 13 &  65 &  28 & 24\\\\\n",
       "\t node-geo-point          & 22 & 15 & 22 & 26 &  87 &  32 & 36\\\\\n",
       "\t node-jsonfile           & 13 &  6 &  4 & 11 &  20 &   7 & 15\\\\\n",
       "\t plural                  & 19 & 15 & 17 & 29 &  86 &  26 & 41\\\\\n",
       "\t pull-stream             & 28 & 23 & 45 & 56 & 182 &  59 & 66\\\\\n",
       "\t q                       & 11 & 13 & 17 & 25 &  61 &  29 & 26\\\\\n",
       "\t spacl-core              &  0 &  0 & 20 & 20 &  78 &  33 & 19\\\\\n",
       "\t zip-a-folder            &  2 &  3 &  5 & 15 &  12 &   7 & 18\\\\\n",
       "\\end{tabular}\n"
      ],
      "text/markdown": [
       "\n",
       "A tibble: 13 × 8\n",
       "\n",
       "| project &lt;chr&gt; | status.0.25.More Killed &lt;dbl&gt; | status.0.25.Less Killed &lt;dbl&gt; | status.0.5.Less Killed &lt;dbl&gt; | status.0.5.More Killed &lt;dbl&gt; | status.0.75.Less Killed &lt;dbl&gt; | status.1.0.Less Killed &lt;dbl&gt; | status.1.0.More Killed &lt;dbl&gt; |\n",
       "|---|---|---|---|---|---|---|---|\n",
       "| Complex.js              | 28 | 27 | 55 | 50 | 264 | 110 | 63 |\n",
       "| countries-and-timezones | 11 | 13 | 14 | 15 |  68 |  34 | 14 |\n",
       "| crawler-url-parser      | 16 | 12 | 22 | 34 |  66 |  25 | 46 |\n",
       "| delta                   | 37 | 65 | 61 | 68 | 242 |  99 | 83 |\n",
       "| image-downloader        |  4 |  4 | 11 |  6 |  29 |  12 |  3 |\n",
       "| node-dirty              | 15 |  8 | 17 | 13 |  65 |  28 | 24 |\n",
       "| node-geo-point          | 22 | 15 | 22 | 26 |  87 |  32 | 36 |\n",
       "| node-jsonfile           | 13 |  6 |  4 | 11 |  20 |   7 | 15 |\n",
       "| plural                  | 19 | 15 | 17 | 29 |  86 |  26 | 41 |\n",
       "| pull-stream             | 28 | 23 | 45 | 56 | 182 |  59 | 66 |\n",
       "| q                       | 11 | 13 | 17 | 25 |  61 |  29 | 26 |\n",
       "| spacl-core              |  0 |  0 | 20 | 20 |  78 |  33 | 19 |\n",
       "| zip-a-folder            |  2 |  3 |  5 | 15 |  12 |   7 | 18 |\n",
       "\n"
      ],
      "text/plain": [
       "   project                 status.0.25.More Killed status.0.25.Less Killed\n",
       "1  Complex.js              28                      27                     \n",
       "2  countries-and-timezones 11                      13                     \n",
       "3  crawler-url-parser      16                      12                     \n",
       "4  delta                   37                      65                     \n",
       "5  image-downloader         4                       4                     \n",
       "6  node-dirty              15                       8                     \n",
       "7  node-geo-point          22                      15                     \n",
       "8  node-jsonfile           13                       6                     \n",
       "9  plural                  19                      15                     \n",
       "10 pull-stream             28                      23                     \n",
       "11 q                       11                      13                     \n",
       "12 spacl-core               0                       0                     \n",
       "13 zip-a-folder             2                       3                     \n",
       "   status.0.5.Less Killed status.0.5.More Killed status.0.75.Less Killed\n",
       "1  55                     50                     264                    \n",
       "2  14                     15                      68                    \n",
       "3  22                     34                      66                    \n",
       "4  61                     68                     242                    \n",
       "5  11                      6                      29                    \n",
       "6  17                     13                      65                    \n",
       "7  22                     26                      87                    \n",
       "8   4                     11                      20                    \n",
       "9  17                     29                      86                    \n",
       "10 45                     56                     182                    \n",
       "11 17                     25                      61                    \n",
       "12 20                     20                      78                    \n",
       "13  5                     15                      12                    \n",
       "   status.1.0.Less Killed status.1.0.More Killed\n",
       "1  110                    63                    \n",
       "2   34                    14                    \n",
       "3   25                    46                    \n",
       "4   99                    83                    \n",
       "5   12                     3                    \n",
       "6   28                    24                    \n",
       "7   32                    36                    \n",
       "8    7                    15                    \n",
       "9   26                    41                    \n",
       "10  59                    66                    \n",
       "11  29                    26                    \n",
       "12  33                    19                    \n",
       "13   7                    18                    "
      ]
     },
     "metadata": {},
     "output_type": "display_data"
    }
   ],
   "source": [
    "# df %>% group_by()\n",
    "# Which are the mutant locations where the number killed is not the same as 0.0?\n",
    "df %>% \n",
    "# replace all NA with 0\n",
    "mutate_all(funs(replace(., is.na(.), 0))) %>%\n",
    "mutate(\n",
    "    status.0.25=case_when(killed.0.25>killed.0.0~\"More Killed\",killed.0.25<killed.0.0~\"Less Killed\",TRUE~\"Equal Killed\"),\n",
    "    status.0.5=case_when(killed.0.5>killed.0.0~\"More Killed\",killed.0.5<killed.0.0~\"Less Killed\",TRUE~\"Equal Killed\"),\n",
    "    status.0.75=case_when(killed.0.75>killed.0.0~\"More Killed\",killed.0.75<killed.0.0~\"Less Killed\",TRUE~\"Equal Killed\"),\n",
    "    status.1.0=case_when(killed.1.0>killed.0.0~\"More Killed\",killed.1.0<killed.0.0~\"Less Killed\",TRUE~\"Equal Killed\"),\n",
    "    v1=1,\n",
    "    v2=1,\n",
    "    v3=1,\n",
    "    v4=1\n",
    ") %>% select(project, fileName, line, column, status.0.25, status.0.5,status.0.75,status.1.0,v1,v2,v3,v4) %>%\n",
    "pivot_wider(names_from=status.0.25, values_from = v1, names_prefix = \"status.0.25.\", values_fill = 0) %>%\n",
    "pivot_wider(names_from=status.0.5, values_from = v2, names_prefix = \"status.0.5.\", values_fill = 0) %>%\n",
    "pivot_wider(names_from=status.0.75, values_from = v3, names_prefix = \"status.0.75.\", values_fill = 0) %>%\n",
    "pivot_wider(names_from=status.1.0, values_from = v4, names_prefix = \"status.1.0.\", values_fill = 0) %>%\n",
    "group_by(project)%>%\n",
    "summarise_at(\n",
    "    vars(starts_with(\"status\")),\n",
    "    funs(sum)\n",
    ") %>%\n",
    "select(-contains(\"Equal Killed\"))"
   ]
  },
  {
   "cell_type": "code",
   "execution_count": null,
   "metadata": {
    "vscode": {
     "languageId": "r"
    }
   },
   "outputs": [],
   "source": []
  }
 ],
 "metadata": {
  "kernelspec": {
   "display_name": "R",
   "language": "R",
   "name": "ir"
  },
  "language_info": {
   "codemirror_mode": "r",
   "file_extension": ".r",
   "mimetype": "text/x-r-source",
   "name": "R",
   "pygments_lexer": "r",
   "version": "4.3.2"
  }
 },
 "nbformat": 4,
 "nbformat_minor": 2
}
