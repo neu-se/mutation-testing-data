{
 "cells": [
  {
   "cell_type": "code",
   "execution_count": 84,
   "metadata": {
    "vscode": {
     "languageId": "r"
    }
   },
   "outputs": [
    {
     "name": "stderr",
     "output_type": "stream",
     "text": [
      "\n",
      "Attaching package: ‘janitor’\n",
      "\n",
      "\n",
      "The following objects are masked from ‘package:stats’:\n",
      "\n",
      "    chisq.test, fisher.test\n",
      "\n",
      "\n"
     ]
    }
   ],
   "source": [
    "library(tidyverse)\n",
    "library(jsonlite)\n",
    "library(tidystringdist)\n",
    "library(kableExtra)\n",
    "library(janitor)"
   ]
  },
  {
   "cell_type": "code",
   "execution_count": 2,
   "metadata": {
    "vscode": {
     "languageId": "r"
    }
   },
   "outputs": [
    {
     "data": {
      "text/html": [
       "<table class=\"dataframe\">\n",
       "<caption>A data.frame: 1 × 21</caption>\n",
       "<thead>\n",
       "\t<tr><th scope=col>nrPrompts</th><th scope=col>nrCandidates</th><th scope=col>nrSyntacticallyValid</th><th scope=col>nrSyntacticallyInvalid</th><th scope=col>nrIdentical</th><th scope=col>nrDuplicate</th><th scope=col>nrLocations</th><th scope=col>totalPromptTokens</th><th scope=col>totalCompletionTokens</th><th scope=col>totalTokens</th><th scope=col>⋯</th><th scope=col>metaInfo.temperature</th><th scope=col>metaInfo.maxTokens</th><th scope=col>metaInfo.maxNrPrompts</th><th scope=col>metaInfo.rateLimit</th><th scope=col>metaInfo.nrAttempts</th><th scope=col>metaInfo.template</th><th scope=col>metaInfo.systemPrompt</th><th scope=col>metaInfo.mutate</th><th scope=col>metaInfo.ignore</th><th scope=col>metaInfo.benchmark</th></tr>\n",
       "\t<tr><th scope=col>&lt;int&gt;</th><th scope=col>&lt;int&gt;</th><th scope=col>&lt;int&gt;</th><th scope=col>&lt;int&gt;</th><th scope=col>&lt;int&gt;</th><th scope=col>&lt;int&gt;</th><th scope=col>&lt;int&gt;</th><th scope=col>&lt;int&gt;</th><th scope=col>&lt;int&gt;</th><th scope=col>&lt;int&gt;</th><th scope=col>⋯</th><th scope=col>&lt;int&gt;</th><th scope=col>&lt;int&gt;</th><th scope=col>&lt;int&gt;</th><th scope=col>&lt;int&gt;</th><th scope=col>&lt;int&gt;</th><th scope=col>&lt;chr&gt;</th><th scope=col>&lt;chr&gt;</th><th scope=col>&lt;chr&gt;</th><th scope=col>&lt;chr&gt;</th><th scope=col>&lt;lgl&gt;</th></tr>\n",
       "</thead>\n",
       "<tbody>\n",
       "\t<tr><td>490</td><td>1272</td><td>962</td><td>310</td><td>0</td><td>15</td><td>398</td><td>960545</td><td>96072</td><td>1056617</td><td>⋯</td><td>0</td><td>250</td><td>2000</td><td>0</td><td>3</td><td>templates/template-full.hb</td><td>SystemPrompt-MutationTestingExpert.txt</td><td>complex.js</td><td></td><td>TRUE</td></tr>\n",
       "</tbody>\n",
       "</table>\n"
      ],
      "text/latex": [
       "A data.frame: 1 × 21\n",
       "\\begin{tabular}{lllllllllllllllllllll}\n",
       " nrPrompts & nrCandidates & nrSyntacticallyValid & nrSyntacticallyInvalid & nrIdentical & nrDuplicate & nrLocations & totalPromptTokens & totalCompletionTokens & totalTokens & ⋯ & metaInfo.temperature & metaInfo.maxTokens & metaInfo.maxNrPrompts & metaInfo.rateLimit & metaInfo.nrAttempts & metaInfo.template & metaInfo.systemPrompt & metaInfo.mutate & metaInfo.ignore & metaInfo.benchmark\\\\\n",
       " <int> & <int> & <int> & <int> & <int> & <int> & <int> & <int> & <int> & <int> & ⋯ & <int> & <int> & <int> & <int> & <int> & <chr> & <chr> & <chr> & <chr> & <lgl>\\\\\n",
       "\\hline\n",
       "\t 490 & 1272 & 962 & 310 & 0 & 15 & 398 & 960545 & 96072 & 1056617 & ⋯ & 0 & 250 & 2000 & 0 & 3 & templates/template-full.hb & SystemPrompt-MutationTestingExpert.txt & complex.js &  & TRUE\\\\\n",
       "\\end{tabular}\n"
      ],
      "text/markdown": [
       "\n",
       "A data.frame: 1 × 21\n",
       "\n",
       "| nrPrompts &lt;int&gt; | nrCandidates &lt;int&gt; | nrSyntacticallyValid &lt;int&gt; | nrSyntacticallyInvalid &lt;int&gt; | nrIdentical &lt;int&gt; | nrDuplicate &lt;int&gt; | nrLocations &lt;int&gt; | totalPromptTokens &lt;int&gt; | totalCompletionTokens &lt;int&gt; | totalTokens &lt;int&gt; | ⋯ ⋯ | metaInfo.temperature &lt;int&gt; | metaInfo.maxTokens &lt;int&gt; | metaInfo.maxNrPrompts &lt;int&gt; | metaInfo.rateLimit &lt;int&gt; | metaInfo.nrAttempts &lt;int&gt; | metaInfo.template &lt;chr&gt; | metaInfo.systemPrompt &lt;chr&gt; | metaInfo.mutate &lt;chr&gt; | metaInfo.ignore &lt;chr&gt; | metaInfo.benchmark &lt;lgl&gt; |\n",
       "|---|---|---|---|---|---|---|---|---|---|---|---|---|---|---|---|---|---|---|---|---|\n",
       "| 490 | 1272 | 962 | 310 | 0 | 15 | 398 | 960545 | 96072 | 1056617 | ⋯ | 0 | 250 | 2000 | 0 | 3 | templates/template-full.hb | SystemPrompt-MutationTestingExpert.txt | complex.js | <!----> | TRUE |\n",
       "\n"
      ],
      "text/plain": [
       "  nrPrompts nrCandidates nrSyntacticallyValid nrSyntacticallyInvalid\n",
       "1 490       1272         962                  310                   \n",
       "  nrIdentical nrDuplicate nrLocations totalPromptTokens totalCompletionTokens\n",
       "1 0           15          398         960545            96072                \n",
       "  totalTokens ⋯ metaInfo.temperature metaInfo.maxTokens metaInfo.maxNrPrompts\n",
       "1 1056617     ⋯ 0                    250                2000                 \n",
       "  metaInfo.rateLimit metaInfo.nrAttempts metaInfo.template         \n",
       "1 0                  3                   templates/template-full.hb\n",
       "  metaInfo.systemPrompt                  metaInfo.mutate metaInfo.ignore\n",
       "1 SystemPrompt-MutationTestingExpert.txt complex.js                     \n",
       "  metaInfo.benchmark\n",
       "1 TRUE              "
      ]
     },
     "metadata": {},
     "output_type": "display_data"
    }
   ],
   "source": [
    "dat <- fromJSON('/Users/jon/Documents/NEU/Projects/llm-mutation-testing/mixtral-8x7b-instruct/template-full-0.0/run360/projects/Complex.js/summary.json')\n",
    "dat %>% as.data.frame()"
   ]
  },
  {
   "cell_type": "code",
   "execution_count": 3,
   "metadata": {
    "vscode": {
     "languageId": "r"
    }
   },
   "outputs": [],
   "source": [
    "BASE_DIR <- '/Users/jon/Documents/NEU/Projects/llm-mutation-testing/mutation-testing-data'\n",
    "\n",
    "# find all summary.json files in BASE_DIR\n",
    "summary_files <- list.files(path = BASE_DIR, recursive = TRUE, pattern = \"summary.json\", full.names = TRUE)\n",
    "\n",
    "# load in all mutants.json files, adding a column for the file path\n",
    "summary <- map_df(summary_files, ~fromJSON(.x) %>% as.data.frame()%>%\n",
    "                    mutate(file = .x)) %>%\n",
    "        extract(file, c('model','template','temperature','run','project'), \"mutation-testing-data/([^/]+)/template-([^-]+)-([^/]+)/run([^/]+)/projects/([^/]+)/\")  %>%\n",
    "        filter(!is.na(project))"
   ]
  },
  {
   "cell_type": "code",
   "execution_count": 4,
   "metadata": {
    "vscode": {
     "languageId": "r"
    }
   },
   "outputs": [],
   "source": [
    "# Load in all StrykerInfo.json files\n",
    "stryker_files <- list.files(path = BASE_DIR, recursive = TRUE, pattern = \"StrykerInfo.json\", full.names = TRUE)\n",
    "stryker <- map_df(stryker_files, ~fromJSON(.x) %>% as.data.frame()%>%\n",
    "                    mutate(file = .x)) %>%\n",
    "        extract(file, c('model','template','temperature','run','project'), \"mutation-testing-data/([^/]+)/template-([^-]+)-([^/]+)/run([^/]+)/projects/([^/]+)/\")  %>%\n",
    "        filter(!is.na(project))"
   ]
  },
  {
   "cell_type": "code",
   "execution_count": 159,
   "metadata": {
    "vscode": {
     "languageId": "r"
    }
   },
   "outputs": [
    {
     "name": "stderr",
     "output_type": "stream",
     "text": [
      "\u001b[1m\u001b[22m`summarise()` has grouped output by 'modelLabel'. You can override using the\n",
      "`.groups` argument.\n",
      "\u001b[1m\u001b[22m`summarise()` has grouped output by 'modelLabel'. You can override using the\n",
      "`.groups` argument.\n"
     ]
    },
    {
     "data": {
      "text/html": [
       "<table class=\"dataframe\">\n",
       "<caption>A tibble: 13 × 2</caption>\n",
       "<thead>\n",
       "\t<tr><th scope=col>modelLabel</th><th scope=col>n</th></tr>\n",
       "\t<tr><th scope=col>&lt;chr&gt;</th><th scope=col>&lt;int&gt;</th></tr>\n",
       "</thead>\n",
       "<tbody>\n",
       "\t<tr><td>codellama-13b-instruct-full-0.0                    </td><td>13</td></tr>\n",
       "\t<tr><td>codellama-34b-instruct-basic-0.0                   </td><td>13</td></tr>\n",
       "\t<tr><td>codellama-34b-instruct-full-0.0                    </td><td>13</td></tr>\n",
       "\t<tr><td>codellama-34b-instruct-full-0.25                   </td><td>13</td></tr>\n",
       "\t<tr><td>codellama-34b-instruct-full-0.5                    </td><td>13</td></tr>\n",
       "\t<tr><td>codellama-34b-instruct-full-1.0                    </td><td>13</td></tr>\n",
       "\t<tr><td>codellama-34b-instruct-full-genericsystemprompt-0.0</td><td>13</td></tr>\n",
       "\t<tr><td>codellama-34b-instruct-noexplanation-0.0           </td><td>13</td></tr>\n",
       "\t<tr><td>codellama-34b-instruct-noinstructions-0.0          </td><td>13</td></tr>\n",
       "\t<tr><td>codellama-34b-instruct-onemutation-0.0             </td><td>13</td></tr>\n",
       "\t<tr><td>gpt-4o-mini-full-0.0                               </td><td>13</td></tr>\n",
       "\t<tr><td>llama-3.3-70b-instruct-full-0.0                    </td><td>13</td></tr>\n",
       "\t<tr><td>mixtral-8x7b-instruct-full-0.0                     </td><td>13</td></tr>\n",
       "</tbody>\n",
       "</table>\n"
      ],
      "text/latex": [
       "A tibble: 13 × 2\n",
       "\\begin{tabular}{ll}\n",
       " modelLabel & n\\\\\n",
       " <chr> & <int>\\\\\n",
       "\\hline\n",
       "\t codellama-13b-instruct-full-0.0                     & 13\\\\\n",
       "\t codellama-34b-instruct-basic-0.0                    & 13\\\\\n",
       "\t codellama-34b-instruct-full-0.0                     & 13\\\\\n",
       "\t codellama-34b-instruct-full-0.25                    & 13\\\\\n",
       "\t codellama-34b-instruct-full-0.5                     & 13\\\\\n",
       "\t codellama-34b-instruct-full-1.0                     & 13\\\\\n",
       "\t codellama-34b-instruct-full-genericsystemprompt-0.0 & 13\\\\\n",
       "\t codellama-34b-instruct-noexplanation-0.0            & 13\\\\\n",
       "\t codellama-34b-instruct-noinstructions-0.0           & 13\\\\\n",
       "\t codellama-34b-instruct-onemutation-0.0              & 13\\\\\n",
       "\t gpt-4o-mini-full-0.0                                & 13\\\\\n",
       "\t llama-3.3-70b-instruct-full-0.0                     & 13\\\\\n",
       "\t mixtral-8x7b-instruct-full-0.0                      & 13\\\\\n",
       "\\end{tabular}\n"
      ],
      "text/markdown": [
       "\n",
       "A tibble: 13 × 2\n",
       "\n",
       "| modelLabel &lt;chr&gt; | n &lt;int&gt; |\n",
       "|---|---|\n",
       "| codellama-13b-instruct-full-0.0                     | 13 |\n",
       "| codellama-34b-instruct-basic-0.0                    | 13 |\n",
       "| codellama-34b-instruct-full-0.0                     | 13 |\n",
       "| codellama-34b-instruct-full-0.25                    | 13 |\n",
       "| codellama-34b-instruct-full-0.5                     | 13 |\n",
       "| codellama-34b-instruct-full-1.0                     | 13 |\n",
       "| codellama-34b-instruct-full-genericsystemprompt-0.0 | 13 |\n",
       "| codellama-34b-instruct-noexplanation-0.0            | 13 |\n",
       "| codellama-34b-instruct-noinstructions-0.0           | 13 |\n",
       "| codellama-34b-instruct-onemutation-0.0              | 13 |\n",
       "| gpt-4o-mini-full-0.0                                | 13 |\n",
       "| llama-3.3-70b-instruct-full-0.0                     | 13 |\n",
       "| mixtral-8x7b-instruct-full-0.0                      | 13 |\n",
       "\n"
      ],
      "text/plain": [
       "   modelLabel                                          n \n",
       "1  codellama-13b-instruct-full-0.0                     13\n",
       "2  codellama-34b-instruct-basic-0.0                    13\n",
       "3  codellama-34b-instruct-full-0.0                     13\n",
       "4  codellama-34b-instruct-full-0.25                    13\n",
       "5  codellama-34b-instruct-full-0.5                     13\n",
       "6  codellama-34b-instruct-full-1.0                     13\n",
       "7  codellama-34b-instruct-full-genericsystemprompt-0.0 13\n",
       "8  codellama-34b-instruct-noexplanation-0.0            13\n",
       "9  codellama-34b-instruct-noinstructions-0.0           13\n",
       "10 codellama-34b-instruct-onemutation-0.0              13\n",
       "11 gpt-4o-mini-full-0.0                                13\n",
       "12 llama-3.3-70b-instruct-full-0.0                     13\n",
       "13 mixtral-8x7b-instruct-full-0.0                      13"
      ]
     },
     "metadata": {},
     "output_type": "display_data"
    }
   ],
   "source": [
    "tableStats <- \n",
    "summary %>% select(model,template,temperature,run,project,nrPrompts,nrCandidates,nrSyntacticallyInvalid,nrIdentical,nrDuplicate,nrSyntacticallyValid) %>%\n",
    "rename(Prompts=nrPrompts, Candidates=nrCandidates, Invalid=nrSyntacticallyInvalid, Identical=nrIdentical, Duplicate=nrDuplicate, mutants=nrSyntacticallyValid) %>%\n",
    "inner_join(stryker, by = c('model', 'template', 'temperature', 'run', 'project')) %>%\n",
    "rename(Killed=nrKilled, Survived=nrSurvived, Timeout=nrTimedOut) %>% select(-time) %>%\n",
    "mutate(Killed=as.integer(Killed), Survived=as.integer(Survived), Timeout=as.integer(Timeout),\n",
    "mutationScore=as.double(mutationScore)) %>%\n",
    "mutate(modelLabel=paste(model,template,temperature,sep='-')) \n",
    "\n",
    "summarizedStats <- tableStats %>% \n",
    "select(-model,-template,-temperature) %>%\n",
    "group_by(modelLabel, project) %>%\n",
    "# summarise min/max per-project\n",
    "summarise(\n",
    "Prompts=paste0(\"$\", format(round(mean(Prompts),0), big.mark=\",\"), \" \\\\pm \", round(sd(Prompts),0),\"$\"),\n",
    "Candidates=paste0(\"$\",format(round(mean(Candidates),0), big.mark=\",\"), \" \\\\pm \", round(sd(Candidates),0),\"$\"),\n",
    "Invalid=paste0(\"$\",format(round(mean(Invalid),0), big.mark=\",\"), \" \\\\pm \", round(sd(Invalid),0),\"$\"),\n",
    "Identical=paste0(\"$\",format(round(mean(Identical),0), big.mark=\",\"), \" \\\\pm \", round(sd(Identical),0),\"$\"),\n",
    "Duplicate=paste0(\"$\",format(round(mean(Duplicate),0), big.mark=\",\"), \" \\\\pm \", round(sd(Duplicate),0),\"$\"),\n",
    "mutants=paste0(\"$\",format(round(mean(mutants),0), big.mark=\",\"), \" \\\\pm \", round(sd(mutants),0),\"$\"),\n",
    "Killed=paste0(\"$\",format(round(mean(Killed),0), big.mark=\",\"), \" \\\\pm \", round(sd(Killed),0),\"$\"),\n",
    "Survived=paste0(\"$\",format(round(mean(Survived),0), big.mark=\",\"), \" \\\\pm \", round(sd(Survived),0),\"$\"),\n",
    "Timeout=paste0(\"$\",format(round(mean(Timeout),0), big.mark=\",\"), \" \\\\pm \", round(sd(Timeout),0),\"$\"),\n",
    "mutationScore=paste0(\"$\",format(round(mean(mutationScore),2), big.mark=\",\"), \" \\\\pm \", round(sd(mutationScore),2),\"$\")\n",
    ")\n",
    "\n",
    "totalStats <- tableStats %>%\n",
    "group_by(modelLabel,project) %>%\n",
    "summarise(\n",
    "Prompts=mean(Prompts),\n",
    "Candidates=mean(Candidates),\n",
    "Invalid=mean(Invalid),\n",
    "Identical=mean(Identical),\n",
    "Duplicate=mean(Duplicate),\n",
    "mutants=mean(mutants),\n",
    "Killed=mean(Killed),\n",
    "Survived=mean(Survived),\n",
    "Timeout=mean(Timeout),\n",
    "mutationScore=mean(mutationScore)\n",
    ") %>% ungroup() %>%\n",
    "group_by(modelLabel) %>%\n",
    "summarise(\n",
    "Prompts=paste0(\"$\",format(round(sum(Prompts),0), big.mark=\",\"), \"$\"),\n",
    "Candidates=paste0(\"$\",format(round(sum(Candidates),0), big.mark=\",\"), \"$\"),\n",
    "Invalid=paste0(\"$\",format(round(sum(Invalid),0), big.mark=\",\"), \"$\"),\n",
    "Identical=paste0(\"$\",format(round(sum(Identical),0), big.mark=\",\"), \"$\"),\n",
    "Duplicate=paste0(\"$\",format(round(sum(Duplicate),0), big.mark=\",\"), \"$\"),\n",
    "mutants=paste0(\"$\",format(round(sum(mutants),0), big.mark=\",\"), \"$\"),\n",
    "Killed=paste0(\"$\",format(round(sum(Killed),0), big.mark=\",\"), \"$\"),\n",
    "Survived=paste0(\"$\",format(round(sum(Survived),0), big.mark=\",\"), \"$\"),\n",
    "Timeout=paste0(\"$\",format(round(sum(Timeout),0), big.mark=\",\"), \"$\"),\n",
    "mutationScore=paste0(\"$\",format(round(mean(mutationScore),2), big.mark=\",\"), \"$\"),\n",
    "project=\"\\\\hline\\\\textit{Total}\"\n",
    ")\n",
    "\n",
    "\n",
    "generateSideBySide <- function(model1, model2){\n",
    "    byProject <- summarizedStats %>%\n",
    "    filter(modelLabel==model1 | modelLabel==model2)  %>%\n",
    "    pivot_wider(names_from = modelLabel, values_from = c(Candidates,Invalid,Identical,Duplicate,mutants,Killed,Survived,Timeout), names_vary = 'slowest') \n",
    "    overall <- totalStats %>%\n",
    "    filter(modelLabel==model1 | modelLabel==model2) %>%\n",
    "    pivot_wider(names_from = modelLabel, values_from = c(Candidates,Invalid,Identical,Duplicate,mutants,Killed,Survived,Timeout), names_vary = 'slowest')\n",
    "\n",
    "    rbind(byProject, overall) %>% mutate(\n",
    "        project=paste0(\"\\\\textit{\",project,\"}\")) %>%\n",
    "    # kable()\n",
    "    kable(format='latex',escape = F, booktabs=T, linesep=\"\")\n",
    "}\n",
    "\n",
    "summarizedStats %>% group_by(modelLabel) %>% tally()"
   ]
  },
  {
   "cell_type": "code",
   "execution_count": 97,
   "metadata": {
    "vscode": {
     "languageId": "r"
    }
   },
   "outputs": [
    {
     "name": "stderr",
     "output_type": "stream",
     "text": [
      "\u001b[1m\u001b[22m`summarise()` has grouped output by 'modelLabel'. You can override using the\n",
      "`.groups` argument.\n"
     ]
    }
   ],
   "source": [
    "captionStrs <- tableStats %>% group_by(modelLabel, run) %>% \n",
    "summarise(n=n()) %>%\n",
    "ungroup()%>%\n",
    "group_by(modelLabel) %>%\n",
    "# paste together run\n",
    "summarise(runs=paste0(run, collapse=\", \")) %>%\n",
    "ungroup() %>%\n",
    "mutate(runs=paste0(modelLabel,' (runs ',runs,')'))\n",
    "\n",
    "captionStr <- function(labels) {\n",
    "    paste(captionStrs %>% filter(modelLabel %in% labels) %>% pull(runs), collapse=\", \")\n",
    "}"
   ]
  },
  {
   "cell_type": "code",
   "execution_count": 189,
   "metadata": {
    "vscode": {
     "languageId": "r"
    }
   },
   "outputs": [],
   "source": [
    "variabilityTableForOneConfig <- function(theModel){\n",
    "# theModel <- 'codellama-13b-instruct-full-0.0'\n",
    "    byProject <- summarizedStats %>%\n",
    "    filter(modelLabel==theModel)  \n",
    "    overall <- totalStats %>%\n",
    "    filter(modelLabel==theModel) \n",
    "\n",
    "    table <- rbind(byProject, overall) %>% ungroup()%>% mutate(\n",
    "         project=case_when(project==\"\\\\hline\\\\textit{Total}\"~project,TRUE~paste0(\"\\\\textit{\",project,\"}\"))) %>%\n",
    "         select(-modelLabel)%>%\n",
    "    rename(application=project,\n",
    "    `\\\\#prompts`=Prompts,\n",
    "    `Candidates`=Candidates,\n",
    "    `Invalid`=Invalid,\n",
    "    `Identical`=Identical,\n",
    "    `Duplicate`=Duplicate,\n",
    "    `\\\\#mutants`=mutants,\n",
    "    `\\\\#killed`=Killed,\n",
    "    `\\\\#survived`=Survived,\n",
    "    `\\\\#timeout`=Timeout,\n",
    "    `mut. score`=mutationScore\n",
    "    )%>%\n",
    "    # # kable()\n",
    "     kable(format='latex',escape = F, booktabs=T,\n",
    "     linesep=\"\",\n",
    "\n",
    "     caption=paste0(\"Summary of mutants for \",captionStr(c(theModel)), \". Each column shows the average number of mutants from all runs, $\\\\pm$ the standard deviation.\"),\n",
    "     label = paste0(\"appendix-variability-\",theModel)\n",
    "     ) %>%   kable_styling(latex_options=\"scale_down\")\n",
    "\n",
    "    #  table\n",
    "    write(table, paste0(\"tables-for-paper/summaryByConfig/\",theModel,\".tex\"))\n",
    "    paste0(\"\\\\input{supplemental/summaryByConfig/\",theModel,\".tex}\")\n",
    "}\n",
    "\n",
    "models <- summarizedStats %>% group_by(modelLabel) %>% tally() %>% ungroup() %>% select(modelLabel)\n",
    "write(models %>% pull(modelLabel) %>% map(variabilityTableForOneConfig) %>% paste(collapse=\"\\n\"), 'tables-for-paper/summaryByConfig/all.tex')\n",
    "# variabilityTableForOneConfig('codellama-13b-instruct-full-0.0')\n",
    "\n",
    "# create the text string that links to all tables by ref\n",
    "summary %>% group_by(model,template,temperature) %>% tally() %>% ungroup() %>% \n",
    "mutate(text=paste0(\"\\\\item Model \",model,\" with template \",template,\" at temperature \",temperature, \": Table \\\\ref{tab:appendix-variability-\",model,\"-\",template,\"-\",temperature,\"}\")) %>% select(text) %>% pull() %>% paste(collapse=\", \") %>%\n",
    "# join to one string\n",
    "paste0(\"\\\\begin{itemize}\\n\", ., \"\\n\\\\end{itemize}\", sep=\"\\n\", collapse = \"\\n\") %>% #print without escaping\n",
    "writeLines(\"tables-for-paper/summaryByConfig/allRefs.tex\")\n",
    "# models %>% pull(modelLabel) %>% map(~paste0(\"\"\"\\\\ref{tab:appendix-variability-\",.x,\"}\")) %>% paste(collapse=\", \")\n"
   ]
  },
  {
   "cell_type": "code",
   "execution_count": 105,
   "metadata": {
    "vscode": {
     "languageId": "r"
    }
   },
   "outputs": [
    {
     "data": {
      "text/plain": [
       "\n",
       "\\begin{tabular}{lllllllllllllllll}\n",
       "\\toprule\n",
       "project & Candidates_codellama-13b-instruct-full-0.0 & Invalid_codellama-13b-instruct-full-0.0 & Identical_codellama-13b-instruct-full-0.0 & Duplicate_codellama-13b-instruct-full-0.0 & mutants_codellama-13b-instruct-full-0.0 & Killed_codellama-13b-instruct-full-0.0 & Survived_codellama-13b-instruct-full-0.0 & Timeout_codellama-13b-instruct-full-0.0 & Candidates_mixtral-8x7b-instruct-full-0.0 & Invalid_mixtral-8x7b-instruct-full-0.0 & Identical_mixtral-8x7b-instruct-full-0.0 & Duplicate_mixtral-8x7b-instruct-full-0.0 & mutants_mixtral-8x7b-instruct-full-0.0 & Killed_mixtral-8x7b-instruct-full-0.0 & Survived_mixtral-8x7b-instruct-full-0.0 & Timeout_mixtral-8x7b-instruct-full-0.0\\\\\n",
       "\\midrule\n",
       "\\textit{Complex.js} & $1,411 \\pm 0$ & $340 \\pm 0$ & $116 \\pm 0$ & $28 \\pm 0$ & $955 \\pm 0$ & $553 \\pm 0$ & $401 \\pm 0$ & $1 \\pm 0$ & $1,284 \\pm 11$ & $310 \\pm 10$ & $0 \\pm 0$ & $19 \\pm 4$ & $974 \\pm 11$ & $592 \\pm 10$ & $382 \\pm 6$ & $0 \\pm 0$\\\\\n",
       "\\textit{countries-and-timezones} & $305 \\pm 0$ & $83 \\pm 0$ & $15 \\pm 0$ & $1 \\pm 0$ & $207 \\pm 0$ & $177 \\pm 0$ & $30 \\pm 0$ & $0 \\pm 0$ & $267 \\pm 3$ & $65 \\pm 3$ & $2 \\pm 0$ & $4 \\pm 1$ & $200 \\pm 4$ & $159 \\pm 5$ & $41 \\pm 2$ & $0 \\pm 0$\\\\\n",
       "\\textit{crawler-url-parser} & $494 \\pm 0$ & $186 \\pm 0$ & $51 \\pm 0$ & $12 \\pm 0$ & $257 \\pm 0$ & $128 \\pm 2$ & $118 \\pm 0$ & $1 \\pm 2$ & $404 \\pm 4$ & $171 \\pm 6$ & $0 \\pm 0$ & $1 \\pm 1$ & $233 \\pm 9$ & $120 \\pm 6$ & $100 \\pm 4$ & $0 \\pm 0$\\\\\n",
       "\\textit{delta} & $1,334 \\pm 0$ & $530 \\pm 0$ & $92 \\pm 0$ & $16 \\pm 0$ & $712 \\pm 0$ & $583 \\pm 0$ & $107 \\pm 0$ & $22 \\pm 0$ & $1,118 \\pm 14$ & $450 \\pm 7$ & $0 \\pm 0$ & $21 \\pm 3$ & $668 \\pm 9$ & $509 \\pm 10$ & $124 \\pm 5$ & $35 \\pm 1$\\\\\n",
       "\\textit{image-downloader} & $122 \\pm 0$ & $40 \\pm 0$ & $5 \\pm 0$ & $2 \\pm 0$ & $77 \\pm 0$ & $48 \\pm 0$ & $29 \\pm 0$ & $0 \\pm 0$ & $104 \\pm 2$ & $38 \\pm 2$ & $0 \\pm 0$ & $1 \\pm 0$ & $66 \\pm 2$ & $42 \\pm 2$ & $24 \\pm 1$ & $0 \\pm 0$\\\\\n",
       "\\textit{node-dirty} & $439 \\pm 0$ & $161 \\pm 0$ & $33 \\pm 0$ & $11 \\pm 0$ & $245 \\pm 0$ & $142 \\pm 0$ & $92 \\pm 0$ & $11 \\pm 0$ & $326 \\pm 15$ & $121 \\pm 7$ & $0 \\pm 0$ & $10 \\pm 0$ & $205 \\pm 8$ & $121 \\pm 6$ & $76 \\pm 4$ & $8 \\pm 2$\\\\\n",
       "\\textit{node-geo-point} & $390 \\pm 0$ & $64 \\pm 0$ & $21 \\pm 0$ & $16 \\pm 0$ & $305 \\pm 0$ & $237 \\pm 0$ & $67 \\pm 0$ & $0 \\pm 0$ & $343 \\pm 3$ & $84 \\pm 4$ & $0 \\pm 0$ & $14 \\pm 2$ & $260 \\pm 4$ & $175 \\pm 5$ & $79 \\pm 2$ & $0 \\pm 0$\\\\\n",
       "\\textit{node-jsonfile} & $192 \\pm 0$ & $45 \\pm 1$ & $10 \\pm 0$ & $6 \\pm 0$ & $137 \\pm 0$ & $43 \\pm 0$ & $45 \\pm 0$ & $49 \\pm 0$ & $152 \\pm 7$ & $23 \\pm 2$ & $0 \\pm 0$ & $4 \\pm 1$ & $129 \\pm 5$ & $54 \\pm 3$ & $28 \\pm 4$ & $47 \\pm 2$\\\\\n",
       "\\textit{plural} & $404 \\pm 6$ & $100 \\pm 1$ & $98 \\pm 1$ & $17 \\pm 0$ & $206 \\pm 4$ & $153 \\pm 3$ & $53 \\pm 1$ & $1 \\pm 0$ & $302 \\pm 3$ & $72 \\pm 2$ & $0 \\pm 0$ & $10 \\pm 2$ & $230 \\pm 3$ & $171 \\pm 4$ & $59 \\pm 2$ & $0 \\pm 0$\\\\\n",
       "\\textit{pull-stream} & $1,002 \\pm 0$ & $279 \\pm 0$ & $54 \\pm 0$ & $13 \\pm 0$ & $669 \\pm 0$ & $386 \\pm 1$ & $236 \\pm 1$ & $46 \\pm 0$ & $928 \\pm 10$ & $245 \\pm 8$ & $1 \\pm 0$ & $6 \\pm 1$ & $682 \\pm 9$ & $393 \\pm 7$ & $243 \\pm 4$ & $46 \\pm 2$\\\\\n",
       "\\textit{q} & $2,992 \\pm 1$ & $899 \\pm 1$ & $379 \\pm 0$ & $55 \\pm 0$ & $1,714 \\pm 1$ & $122 \\pm 0$ & $1,519 \\pm 1$ & $73 \\pm 0$ & $2,409 \\pm 34$ & $763 \\pm 18$ & $3 \\pm 0$ & $49 \\pm 4$ & $1,643 \\pm 20$ & $115 \\pm 2$ & $1,458 \\pm 22$ & $70 \\pm 3$\\\\\n",
       "\\textit{spacl-core} & $377 \\pm 0$ & $142 \\pm 0$ & $40 \\pm 0$ & $7 \\pm 0$ & $195 \\pm 0$ & $160 \\pm 0$ & $25 \\pm 0$ & $0 \\pm 0$ & $330 \\pm 3$ & $151 \\pm 3$ & $0 \\pm 0$ & $3 \\pm 1$ & $179 \\pm 1$ & $134 \\pm 0$ & $22 \\pm 1$ & $1 \\pm 0$\\\\\n",
       "\\textit{zip-a-folder} & $137 \\pm 0$ & $43 \\pm 0$ & $7 \\pm 0$ & $1 \\pm 0$ & $87 \\pm 0$ & $27 \\pm 0$ & $55 \\pm 0$ & $5 \\pm 0$ & $118 \\pm 3$ & $38 \\pm 3$ & $0 \\pm 0$ & $0 \\pm 0$ & $80 \\pm 4$ & $26 \\pm 4$ & $45 \\pm 4$ & $8 \\pm 1$\\\\\n",
       "\\hline\\textit{Total} & $9,599$ & $2,911$ & $921$ & $185$ & $5,766$ & $2,759$ & $2,777$ & $209$ & $8,086$ & $2,532$ & $7$ & $142$ & $5,547$ & $2,610$ & $2,682$ & $215$\\\\\n",
       "\\bottomrule\n",
       "\\end{tabular}"
      ]
     },
     "metadata": {},
     "output_type": "display_data"
    },
    {
     "data": {
      "text/plain": [
       "\n",
       "\\begin{tabular}{lllllllllllllllll}\n",
       "\\toprule\n",
       "project & Candidates_gpt-4o-mini-full-0.0 & Invalid_gpt-4o-mini-full-0.0 & Identical_gpt-4o-mini-full-0.0 & Duplicate_gpt-4o-mini-full-0.0 & mutants_gpt-4o-mini-full-0.0 & Killed_gpt-4o-mini-full-0.0 & Survived_gpt-4o-mini-full-0.0 & Timeout_gpt-4o-mini-full-0.0 & Candidates_llama-3.3-70b-instruct-full-0.0 & Invalid_llama-3.3-70b-instruct-full-0.0 & Identical_llama-3.3-70b-instruct-full-0.0 & Duplicate_llama-3.3-70b-instruct-full-0.0 & mutants_llama-3.3-70b-instruct-full-0.0 & Killed_llama-3.3-70b-instruct-full-0.0 & Survived_llama-3.3-70b-instruct-full-0.0 & Timeout_llama-3.3-70b-instruct-full-0.0\\\\\n",
       "\\midrule\n",
       "\\textit{Complex.js} & $1,433 \\pm 3$ & $448 \\pm 6$ & $0 \\pm 0$ & $36 \\pm 2$ & $986 \\pm 4$ & $599 \\pm 4$ & $387 \\pm 2$ & $0 \\pm 0$ & $1,413 \\pm 3$ & $282 \\pm 7$ & $0 \\pm 0$ & $59 \\pm 5$ & $1,130 \\pm 6$ & $682 \\pm 5$ & $448 \\pm 3$ & $1 \\pm 0$\\\\\n",
       "\\textit{countries-and-timezones} & $308 \\pm 2$ & $101 \\pm 3$ & $0 \\pm 0$ & $10 \\pm 2$ & $207 \\pm 2$ & $171 \\pm 3$ & $36 \\pm 2$ & $0 \\pm 0$ & $305 \\pm 1$ & $65 \\pm 2$ & $0 \\pm 0$ & $13 \\pm 1$ & $240 \\pm 2$ & $204 \\pm 4$ & $36 \\pm 3$ & $0 \\pm 0$\\\\\n",
       "\\textit{crawler-url-parser} & $517 \\pm 1$ & $234 \\pm 4$ & $0 \\pm 0$ & $10 \\pm 1$ & $283 \\pm 4$ & $178 \\pm 3$ & $91 \\pm 2$ & $0 \\pm 0$ & $506 \\pm 1$ & $179 \\pm 3$ & $0 \\pm 0$ & $22 \\pm 1$ & $328 \\pm 2$ & $203 \\pm 3$ & $113 \\pm 2$ & $0 \\pm 0$\\\\\n",
       "\\textit{delta} & $1,346 \\pm 3$ & $643 \\pm 5$ & $1 \\pm 1$ & $39 \\pm 3$ & $701 \\pm 4$ & $562 \\pm 3$ & $103 \\pm 4$ & $35 \\pm 1$ & $1,338 \\pm 3$ & $540 \\pm 3$ & $0 \\pm 0$ & $49 \\pm 3$ & $798 \\pm 4$ & $634 \\pm 8$ & $128 \\pm 5$ & $37 \\pm 3$\\\\\n",
       "\\textit{image-downloader} & $123 \\pm 1$ & $57 \\pm 1$ & $0 \\pm 0$ & $3 \\pm 1$ & $67 \\pm 1$ & $45 \\pm 3$ & $22 \\pm 3$ & $0 \\pm 0$ & $122 \\pm 1$ & $44 \\pm 2$ & $0 \\pm 0$ & $5 \\pm 1$ & $79 \\pm 2$ & $52 \\pm 6$ & $27 \\pm 4$ & $0 \\pm 0$\\\\\n",
       "\\textit{node-dirty} & $453 \\pm 1$ & $191 \\pm 4$ & $0 \\pm 0$ & $9 \\pm 1$ & $262 \\pm 4$ & $152 \\pm 4$ & $102 \\pm 3$ & $7 \\pm 1$ & $453 \\pm 2$ & $124 \\pm 3$ & $1 \\pm 0$ & $11 \\pm 2$ & $327 \\pm 5$ & $167 \\pm 7$ & $142 \\pm 2$ & $19 \\pm 2$\\\\\n",
       "\\textit{node-geo-point} & $395 \\pm 3$ & $86 \\pm 2$ & $0 \\pm 0$ & $24 \\pm 3$ & $310 \\pm 3$ & $219 \\pm 4$ & $88 \\pm 2$ & $0 \\pm 0$ & $400 \\pm 4$ & $39 \\pm 2$ & $0 \\pm 0$ & $21 \\pm 3$ & $361 \\pm 4$ & $258 \\pm 4$ & $100 \\pm 5$ & $0 \\pm 0$\\\\\n",
       "\\textit{node-jsonfile} & $197 \\pm 1$ & $45 \\pm 1$ & $0 \\pm 0$ & $7 \\pm 1$ & $153 \\pm 2$ & $65 \\pm 3$ & $26 \\pm 2$ & $62 \\pm 2$ & $199 \\pm 1$ & $27 \\pm 2$ & $0 \\pm 0$ & $5 \\pm 1$ & $172 \\pm 2$ & $64 \\pm 2$ & $38 \\pm 2$ & $70 \\pm 2$\\\\\n",
       "\\textit{plural} & $430 \\pm 2$ & $112 \\pm 2$ & $5 \\pm 1$ & $25 \\pm 2$ & $313 \\pm 1$ & $258 \\pm 4$ & $54 \\pm 3$ & $1 \\pm 1$ & $429 \\pm 2$ & $92 \\pm 3$ & $0 \\pm 0$ & $27 \\pm 2$ & $337 \\pm 3$ & $245 \\pm 4$ & $92 \\pm 5$ & $0 \\pm 0$\\\\\n",
       "\\textit{pull-stream} & $1,039 \\pm 2$ & $300 \\pm 1$ & $0 \\pm 0$ & $14 \\pm 2$ & $739 \\pm 3$ & $430 \\pm 6$ & $244 \\pm 3$ & $65 \\pm 3$ & $1,044 \\pm 2$ & $266 \\pm 3$ & $0 \\pm 0$ & $9 \\pm 2$ & $777 \\pm 3$ & $465 \\pm 2$ & $262 \\pm 4$ & $51 \\pm 2$\\\\\n",
       "\\textit{q} & $3,080 \\pm 5$ & $1,292 \\pm 5$ & $5 \\pm 2$ & $73 \\pm 5$ & $1,784 \\pm 9$ & $130 \\pm 5$ & $1,591 \\pm 7$ & $63 \\pm 3$ & $3,073 \\pm 3$ & $852 \\pm 9$ & $0 \\pm 1$ & $82 \\pm 3$ & $2,221 \\pm 12$ & $127 \\pm 3$ & $2,011 \\pm 13$ & $82 \\pm 3$\\\\\n",
       "\\textit{spacl-core} & $390 \\pm 2$ & $157 \\pm 3$ & $0 \\pm 0$ & $11 \\pm 1$ & $233 \\pm 3$ & $198 \\pm 3$ & $18 \\pm 2$ & $0 \\pm 0$ & $385 \\pm 1$ & $130 \\pm 4$ & $0 \\pm 0$ & $16 \\pm 1$ & $256 \\pm 5$ & $208 \\pm 5$ & $34 \\pm 2$ & $1 \\pm 0$\\\\\n",
       "\\textit{zip-a-folder} & $144 \\pm 1$ & $62 \\pm 2$ & $0 \\pm 0$ & $3 \\pm 1$ & $82 \\pm 1$ & $18 \\pm 3$ & $5 \\pm 1$ & $59 \\pm 2$ & $145 \\pm 0$ & $26 \\pm 2$ & $0 \\pm 0$ & $2 \\pm 0$ & $119 \\pm 2$ & $45 \\pm 37$ & $5 \\pm 0$ & $69 \\pm 38$\\\\\n",
       "\\hline\\textit{Total} & $9,857$ & $3,727$ & $11$ & $263$ & $6,120$ & $3,026$ & $2,768$ & $292$ & $9,812$ & $2,665$ & $2$ & $321$ & $7,145$ & $3,352$ & $3,436$ & $330$\\\\\n",
       "\\bottomrule\n",
       "\\end{tabular}"
      ]
     },
     "metadata": {},
     "output_type": "display_data"
    },
    {
     "data": {
      "text/html": [
       "'codellama-13b-instruct-full-0.0 (runs 354, 355, 356, 358, 359), gpt-4o-mini-full-0.0 (runs 58, 59, 60, 61, 63), llama-3.3-70b-instruct-full-0.0 (runs 23, 24, 25, 26, 27), mixtral-8x7b-instruct-full-0.0 (runs 360, 361, 362, 363, 364)'"
      ],
      "text/latex": [
       "'codellama-13b-instruct-full-0.0 (runs 354, 355, 356, 358, 359), gpt-4o-mini-full-0.0 (runs 58, 59, 60, 61, 63), llama-3.3-70b-instruct-full-0.0 (runs 23, 24, 25, 26, 27), mixtral-8x7b-instruct-full-0.0 (runs 360, 361, 362, 363, 364)'"
      ],
      "text/markdown": [
       "'codellama-13b-instruct-full-0.0 (runs 354, 355, 356, 358, 359), gpt-4o-mini-full-0.0 (runs 58, 59, 60, 61, 63), llama-3.3-70b-instruct-full-0.0 (runs 23, 24, 25, 26, 27), mixtral-8x7b-instruct-full-0.0 (runs 360, 361, 362, 363, 364)'"
      ],
      "text/plain": [
       "[1] \"codellama-13b-instruct-full-0.0 (runs 354, 355, 356, 358, 359), gpt-4o-mini-full-0.0 (runs 58, 59, 60, 61, 63), llama-3.3-70b-instruct-full-0.0 (runs 23, 24, 25, 26, 27), mixtral-8x7b-instruct-full-0.0 (runs 360, 361, 362, 363, 364)\""
      ]
     },
     "metadata": {},
     "output_type": "display_data"
    }
   ],
   "source": [
    "# Table 7, mutant stats for models with higher variability. These are too wide to fit on a page.\n",
    "generateSideBySide('codellama-13b-instruct-full-0.0','mixtral-8x7b-instruct-full-0.0')\n",
    "generateSideBySide('llama-3.3-70b-instruct-full-0.0','gpt-4o-mini-full-0.0')\n",
    "\n",
    "captionStr(c('codellama-13b-instruct-full-0.0','mixtral-8x7b-instruct-full-0.0','llama-3.3-70b-instruct-full-0.0','gpt-4o-mini-full-0.0'))\n"
   ]
  }
 ],
 "metadata": {
  "kernelspec": {
   "display_name": "R",
   "language": "R",
   "name": "ir"
  },
  "language_info": {
   "codemirror_mode": "r",
   "file_extension": ".r",
   "mimetype": "text/x-r-source",
   "name": "R",
   "pygments_lexer": "r",
   "version": "4.4.2"
  }
 },
 "nbformat": 4,
 "nbformat_minor": 2
}
