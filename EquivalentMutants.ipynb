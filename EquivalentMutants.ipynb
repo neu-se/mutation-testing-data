{
 "cells": [
  {
   "cell_type": "code",
   "execution_count": 1,
   "metadata": {
    "vscode": {
     "languageId": "r"
    }
   },
   "outputs": [
    {
     "name": "stderr",
     "output_type": "stream",
     "text": [
      "── \u001b[1mAttaching core tidyverse packages\u001b[22m ──────────────────────── tidyverse 2.0.0 ──\n",
      "\u001b[32m✔\u001b[39m \u001b[34mdplyr    \u001b[39m 1.1.2     \u001b[32m✔\u001b[39m \u001b[34mreadr    \u001b[39m 2.1.4\n",
      "\u001b[32m✔\u001b[39m \u001b[34mforcats  \u001b[39m 1.0.0     \u001b[32m✔\u001b[39m \u001b[34mstringr  \u001b[39m 1.5.0\n",
      "\u001b[32m✔\u001b[39m \u001b[34mggplot2  \u001b[39m 3.4.3     \u001b[32m✔\u001b[39m \u001b[34mtibble   \u001b[39m 3.2.1\n",
      "\u001b[32m✔\u001b[39m \u001b[34mlubridate\u001b[39m 1.9.2     \u001b[32m✔\u001b[39m \u001b[34mtidyr    \u001b[39m 1.3.0\n",
      "\u001b[32m✔\u001b[39m \u001b[34mpurrr    \u001b[39m 1.0.2     \n",
      "── \u001b[1mConflicts\u001b[22m ────────────────────────────────────────── tidyverse_conflicts() ──\n",
      "\u001b[31m✖\u001b[39m \u001b[34mdplyr\u001b[39m::\u001b[32mfilter()\u001b[39m masks \u001b[34mstats\u001b[39m::filter()\n",
      "\u001b[31m✖\u001b[39m \u001b[34mdplyr\u001b[39m::\u001b[32mlag()\u001b[39m    masks \u001b[34mstats\u001b[39m::lag()\n",
      "\u001b[36mℹ\u001b[39m Use the conflicted package (\u001b[3m\u001b[34m<http://conflicted.r-lib.org/>\u001b[39m\u001b[23m) to force all conflicts to become errors\n",
      "\n",
      "Attaching package: ‘kableExtra’\n",
      "\n",
      "\n",
      "The following object is masked from ‘package:dplyr’:\n",
      "\n",
      "    group_rows\n",
      "\n",
      "\n",
      "\n",
      "Attaching package: ‘janitor’\n",
      "\n",
      "\n",
      "The following objects are masked from ‘package:stats’:\n",
      "\n",
      "    chisq.test, fisher.test\n",
      "\n",
      "\n"
     ]
    }
   ],
   "source": [
    "library(tidyverse)\n",
    "library(kableExtra)\n",
    "library(janitor)"
   ]
  },
  {
   "cell_type": "code",
   "execution_count": 7,
   "metadata": {
    "vscode": {
     "languageId": "r"
    }
   },
   "outputs": [],
   "source": [
    "t0 <- read.csv(\"manual-inspection/survived_mutants_sample-run-312.csv\") %>% mutate(temperature=\"LLMorpheus\")\n",
    "stryker <- read.csv(\"manual-inspection/survived_mutants_sample-stryker.csv\") %>% mutate(temperature=\"Stryker\")"
   ]
  },
  {
   "cell_type": "code",
   "execution_count": 13,
   "metadata": {
    "vscode": {
     "languageId": "r"
    }
   },
   "outputs": [
    {
     "name": "stderr",
     "output_type": "stream",
     "text": [
      "\u001b[1m\u001b[22m`summarise()` has grouped output by 'project', 'coding'. You can override using\n",
      "the `.groups` argument.\n"
     ]
    },
    {
     "data": {
      "text/plain": [
       "\n",
       "\\begin{tabular}{lrrrrrrrr}\n",
       "\\toprule\n",
       "project & LLMorpheus_Trivially Equivalent & LLMorpheus_Near Equivalent & LLMorpheus_Behavioral Change & LLMorpheus_Unknown & Stryker_Trivially Equivalent & Stryker_Near Equivalent & Stryker_Behavioral Change & Stryker_Unknown\\\\\n",
       "\\midrule\n",
       "Complex.js & 5 & 0 & 42 & 3 & 0 & 0 & 46 & 4\\\\\n",
       "countries-and-timezones & 3 & 18 & 8 & 0 & 0 & 0 & 3 & 3\\\\\n",
       "crawler-url-parser & 1 & 1 & 34 & 14 & 1 & 0 & 32 & 17\\\\\n",
       "delta & 1 & 1 & 37 & 11 & 5 & 0 & 29 & 16\\\\\n",
       "image-downloader & 1 & 1 & 6 & 9 & 0 & 0 & 4 & 4\\\\\n",
       "node-dirty & 5 & 8 & 27 & 10 & 1 & 0 & 35 & 14\\\\\n",
       "node-geo-point & 1 & 2 & 40 & 7 & 2 & 0 & 40 & 8\\\\\n",
       "node-jsonfile & 1 & 6 & 23 & 2 & 0 & 0 & 1 & 2\\\\\n",
       "plural & 10 & 1 & 33 & 6 & 0 & 0 & 28 & 9\\\\\n",
       "pull-stream & 0 & 10 & 29 & 11 & 0 & 1 & 41 & 8\\\\\n",
       "q & 1 & 2 & 42 & 5 & 0 & 1 & 43 & 6\\\\\n",
       "spacl-core & 15 & 0 & 6 & 18 & 0 & 1 & 7 & 12\\\\\n",
       "zip-a-folder & 0 & 0 & 0 & 0 & 0 & 0 & 5 & 1\\\\\n",
       "Total & 44 & 50 & 327 & 96 & 9 & 3 & 314 & 104\\\\\n",
       "\\bottomrule\n",
       "\\end{tabular}"
      ]
     },
     "metadata": {},
     "output_type": "display_data"
    }
   ],
   "source": [
    "bind_rows(t0, stryker) %>% group_by(project, coding, temperature) %>% summarise(n=n()) %>%\n",
    "pivot_wider(names_from = c(\"temperature\",\"coding\"), values_from = n, values_fill=0) %>%\n",
    "select(project,`LLMorpheus_Trivially Equivalent`, `LLMorpheus_Near Equivalent`, `LLMorpheus_Behavioral Change`, `LLMorpheus_Unknown`,\n",
    "\n",
    "`Stryker_Trivially Equivalent`, `Stryker_Near Equivalent`, `Stryker_Behavioral Change`,`Stryker_Unknown`) %>%\n",
    "adorn_totals(\"row\") %>%\n",
    "kable(format.args = list(big.mark = \",\"), escape = F,\n",
    " format = \"latex\",booktabs = TRUE, linesep = \"\")"
   ]
  },
  {
   "cell_type": "code",
   "execution_count": 14,
   "metadata": {
    "vscode": {
     "languageId": "r"
    }
   },
   "outputs": [],
   "source": [
    "otherTemps <- read.csv(\"manual-inspection/survived_mutants_sample-other-temps.csv\") %>% extract(temperature, c(\"temperature\"), \"template-full-(.*?)/run\")\n",
    "# t0 <- read.csv(\"manual-inspection/survived_mutants_sample-run-312.csv\") %>% mutate(temperature=\"mutation-testing-data/codellama-34b-instruct/template-full-0.0/run312\")\n",
    "\n",
    "# df <- bind_rows(otherTemps, t0) %>% extract(temperature, c(\"temperature\"), \"template-full-(.*?)/run\")"
   ]
  },
  {
   "cell_type": "code",
   "execution_count": 16,
   "metadata": {
    "vscode": {
     "languageId": "r"
    }
   },
   "outputs": [
    {
     "name": "stderr",
     "output_type": "stream",
     "text": [
      "\u001b[1m\u001b[22m`summarise()` has grouped output by 'project', 'temperature'. You can override\n",
      "using the `.groups` argument.\n"
     ]
    },
    {
     "data": {
      "text/html": [
       "<table class=\"dataframe\">\n",
       "<caption>A tabyl: 14 × 13</caption>\n",
       "<thead>\n",
       "\t<tr><th scope=col>project</th><th scope=col>0.25_Behavioral Change</th><th scope=col>0.25_Near Equivalent</th><th scope=col>0.25_Trivially Equivalent</th><th scope=col>0.25_Unknown</th><th scope=col>0.5_Behavioral Change</th><th scope=col>0.5_Near Equivalent</th><th scope=col>0.5_Trivially Equivalent</th><th scope=col>0.5_Unknown</th><th scope=col>1.0_Behavioral Change</th><th scope=col>1.0_Near Equivalent</th><th scope=col>1.0_Trivially Equivalent</th><th scope=col>1.0_Unknown</th></tr>\n",
       "\t<tr><th scope=col>&lt;chr&gt;</th><th scope=col>&lt;int&gt;</th><th scope=col>&lt;int&gt;</th><th scope=col>&lt;int&gt;</th><th scope=col>&lt;int&gt;</th><th scope=col>&lt;int&gt;</th><th scope=col>&lt;int&gt;</th><th scope=col>&lt;int&gt;</th><th scope=col>&lt;int&gt;</th><th scope=col>&lt;int&gt;</th><th scope=col>&lt;int&gt;</th><th scope=col>&lt;int&gt;</th><th scope=col>&lt;int&gt;</th></tr>\n",
       "</thead>\n",
       "<tbody>\n",
       "\t<tr><td>Complex.js             </td><td> 8</td><td> 1</td><td> 1</td><td> 4</td><td>12</td><td> 3</td><td>12</td><td> 5</td><td>16</td><td> 2</td><td>13</td><td> 7</td></tr>\n",
       "\t<tr><td>countries-and-timezones</td><td> 2</td><td>NA</td><td> 4</td><td> 4</td><td>NA</td><td>NA</td><td> 6</td><td> 3</td><td> 3</td><td> 6</td><td> 3</td><td> 5</td></tr>\n",
       "\t<tr><td>crawler-url-parser     </td><td> 3</td><td>NA</td><td>NA</td><td> 1</td><td> 7</td><td>NA</td><td>NA</td><td>NA</td><td> 4</td><td>NA</td><td> 1</td><td> 1</td></tr>\n",
       "\t<tr><td>delta                  </td><td> 3</td><td>NA</td><td> 1</td><td> 7</td><td> 8</td><td> 3</td><td> 3</td><td> 5</td><td> 9</td><td> 3</td><td> 3</td><td> 5</td></tr>\n",
       "\t<tr><td>image-downloader       </td><td>NA</td><td> 1</td><td>NA</td><td>NA</td><td>NA</td><td> 2</td><td>NA</td><td>NA</td><td> 4</td><td> 2</td><td> 1</td><td> 1</td></tr>\n",
       "\t<tr><td>node-dirty             </td><td> 1</td><td>NA</td><td>NA</td><td> 1</td><td>NA</td><td> 4</td><td> 1</td><td> 4</td><td> 1</td><td> 1</td><td> 2</td><td> 2</td></tr>\n",
       "\t<tr><td>node-geo-point         </td><td>NA</td><td>NA</td><td>NA</td><td>NA</td><td> 2</td><td>NA</td><td> 1</td><td> 1</td><td>NA</td><td>NA</td><td> 3</td><td>NA</td></tr>\n",
       "\t<tr><td>node-jsonfile          </td><td> 2</td><td> 1</td><td> 2</td><td> 1</td><td>NA</td><td>NA</td><td> 3</td><td> 1</td><td> 1</td><td>NA</td><td> 3</td><td>NA</td></tr>\n",
       "\t<tr><td>plural                 </td><td> 1</td><td>NA</td><td> 1</td><td>NA</td><td> 3</td><td>NA</td><td> 3</td><td> 2</td><td> 3</td><td>NA</td><td> 8</td><td> 1</td></tr>\n",
       "\t<tr><td>pull-stream            </td><td> 3</td><td> 1</td><td> 3</td><td> 3</td><td> 4</td><td> 9</td><td>10</td><td> 4</td><td> 3</td><td> 5</td><td> 3</td><td> 3</td></tr>\n",
       "\t<tr><td>q                      </td><td> 3</td><td> 1</td><td>NA</td><td>NA</td><td> 1</td><td>NA</td><td>NA</td><td> 2</td><td> 1</td><td> 1</td><td>NA</td><td> 3</td></tr>\n",
       "\t<tr><td>spacl-core             </td><td>NA</td><td>NA</td><td>NA</td><td>NA</td><td> 2</td><td> 2</td><td> 1</td><td> 1</td><td> 3</td><td> 2</td><td> 8</td><td> 3</td></tr>\n",
       "\t<tr><td>zip-a-folder           </td><td> 1</td><td>NA</td><td>NA</td><td>NA</td><td>NA</td><td>NA</td><td>NA</td><td>NA</td><td>NA</td><td>NA</td><td>NA</td><td>NA</td></tr>\n",
       "\t<tr><td>Total                  </td><td>27</td><td> 5</td><td>12</td><td>21</td><td>39</td><td>23</td><td>40</td><td>28</td><td>48</td><td>22</td><td>48</td><td>31</td></tr>\n",
       "</tbody>\n",
       "</table>\n"
      ],
      "text/latex": [
       "A tabyl: 14 × 13\n",
       "\\begin{tabular}{lllllllllllll}\n",
       " project & 0.25\\_Behavioral Change & 0.25\\_Near Equivalent & 0.25\\_Trivially Equivalent & 0.25\\_Unknown & 0.5\\_Behavioral Change & 0.5\\_Near Equivalent & 0.5\\_Trivially Equivalent & 0.5\\_Unknown & 1.0\\_Behavioral Change & 1.0\\_Near Equivalent & 1.0\\_Trivially Equivalent & 1.0\\_Unknown\\\\\n",
       " <chr> & <int> & <int> & <int> & <int> & <int> & <int> & <int> & <int> & <int> & <int> & <int> & <int>\\\\\n",
       "\\hline\n",
       "\t Complex.js              &  8 &  1 &  1 &  4 & 12 &  3 & 12 &  5 & 16 &  2 & 13 &  7\\\\\n",
       "\t countries-and-timezones &  2 & NA &  4 &  4 & NA & NA &  6 &  3 &  3 &  6 &  3 &  5\\\\\n",
       "\t crawler-url-parser      &  3 & NA & NA &  1 &  7 & NA & NA & NA &  4 & NA &  1 &  1\\\\\n",
       "\t delta                   &  3 & NA &  1 &  7 &  8 &  3 &  3 &  5 &  9 &  3 &  3 &  5\\\\\n",
       "\t image-downloader        & NA &  1 & NA & NA & NA &  2 & NA & NA &  4 &  2 &  1 &  1\\\\\n",
       "\t node-dirty              &  1 & NA & NA &  1 & NA &  4 &  1 &  4 &  1 &  1 &  2 &  2\\\\\n",
       "\t node-geo-point          & NA & NA & NA & NA &  2 & NA &  1 &  1 & NA & NA &  3 & NA\\\\\n",
       "\t node-jsonfile           &  2 &  1 &  2 &  1 & NA & NA &  3 &  1 &  1 & NA &  3 & NA\\\\\n",
       "\t plural                  &  1 & NA &  1 & NA &  3 & NA &  3 &  2 &  3 & NA &  8 &  1\\\\\n",
       "\t pull-stream             &  3 &  1 &  3 &  3 &  4 &  9 & 10 &  4 &  3 &  5 &  3 &  3\\\\\n",
       "\t q                       &  3 &  1 & NA & NA &  1 & NA & NA &  2 &  1 &  1 & NA &  3\\\\\n",
       "\t spacl-core              & NA & NA & NA & NA &  2 &  2 &  1 &  1 &  3 &  2 &  8 &  3\\\\\n",
       "\t zip-a-folder            &  1 & NA & NA & NA & NA & NA & NA & NA & NA & NA & NA & NA\\\\\n",
       "\t Total                   & 27 &  5 & 12 & 21 & 39 & 23 & 40 & 28 & 48 & 22 & 48 & 31\\\\\n",
       "\\end{tabular}\n"
      ],
      "text/markdown": [
       "\n",
       "A tabyl: 14 × 13\n",
       "\n",
       "| project &lt;chr&gt; | 0.25_Behavioral Change &lt;int&gt; | 0.25_Near Equivalent &lt;int&gt; | 0.25_Trivially Equivalent &lt;int&gt; | 0.25_Unknown &lt;int&gt; | 0.5_Behavioral Change &lt;int&gt; | 0.5_Near Equivalent &lt;int&gt; | 0.5_Trivially Equivalent &lt;int&gt; | 0.5_Unknown &lt;int&gt; | 1.0_Behavioral Change &lt;int&gt; | 1.0_Near Equivalent &lt;int&gt; | 1.0_Trivially Equivalent &lt;int&gt; | 1.0_Unknown &lt;int&gt; |\n",
       "|---|---|---|---|---|---|---|---|---|---|---|---|---|\n",
       "| Complex.js              |  8 |  1 |  1 |  4 | 12 |  3 | 12 |  5 | 16 |  2 | 13 |  7 |\n",
       "| countries-and-timezones |  2 | NA |  4 |  4 | NA | NA |  6 |  3 |  3 |  6 |  3 |  5 |\n",
       "| crawler-url-parser      |  3 | NA | NA |  1 |  7 | NA | NA | NA |  4 | NA |  1 |  1 |\n",
       "| delta                   |  3 | NA |  1 |  7 |  8 |  3 |  3 |  5 |  9 |  3 |  3 |  5 |\n",
       "| image-downloader        | NA |  1 | NA | NA | NA |  2 | NA | NA |  4 |  2 |  1 |  1 |\n",
       "| node-dirty              |  1 | NA | NA |  1 | NA |  4 |  1 |  4 |  1 |  1 |  2 |  2 |\n",
       "| node-geo-point          | NA | NA | NA | NA |  2 | NA |  1 |  1 | NA | NA |  3 | NA |\n",
       "| node-jsonfile           |  2 |  1 |  2 |  1 | NA | NA |  3 |  1 |  1 | NA |  3 | NA |\n",
       "| plural                  |  1 | NA |  1 | NA |  3 | NA |  3 |  2 |  3 | NA |  8 |  1 |\n",
       "| pull-stream             |  3 |  1 |  3 |  3 |  4 |  9 | 10 |  4 |  3 |  5 |  3 |  3 |\n",
       "| q                       |  3 |  1 | NA | NA |  1 | NA | NA |  2 |  1 |  1 | NA |  3 |\n",
       "| spacl-core              | NA | NA | NA | NA |  2 |  2 |  1 |  1 |  3 |  2 |  8 |  3 |\n",
       "| zip-a-folder            |  1 | NA | NA | NA | NA | NA | NA | NA | NA | NA | NA | NA |\n",
       "| Total                   | 27 |  5 | 12 | 21 | 39 | 23 | 40 | 28 | 48 | 22 | 48 | 31 |\n",
       "\n"
      ],
      "text/plain": [
       "   project                 0.25_Behavioral Change 0.25_Near Equivalent\n",
       "1  Complex.js               8                      1                  \n",
       "2  countries-and-timezones  2                     NA                  \n",
       "3  crawler-url-parser       3                     NA                  \n",
       "4  delta                    3                     NA                  \n",
       "5  image-downloader        NA                      1                  \n",
       "6  node-dirty               1                     NA                  \n",
       "7  node-geo-point          NA                     NA                  \n",
       "8  node-jsonfile            2                      1                  \n",
       "9  plural                   1                     NA                  \n",
       "10 pull-stream              3                      1                  \n",
       "11 q                        3                      1                  \n",
       "12 spacl-core              NA                     NA                  \n",
       "13 zip-a-folder             1                     NA                  \n",
       "14 Total                   27                      5                  \n",
       "   0.25_Trivially Equivalent 0.25_Unknown 0.5_Behavioral Change\n",
       "1   1                         4           12                   \n",
       "2   4                         4           NA                   \n",
       "3  NA                         1            7                   \n",
       "4   1                         7            8                   \n",
       "5  NA                        NA           NA                   \n",
       "6  NA                         1           NA                   \n",
       "7  NA                        NA            2                   \n",
       "8   2                         1           NA                   \n",
       "9   1                        NA            3                   \n",
       "10  3                         3            4                   \n",
       "11 NA                        NA            1                   \n",
       "12 NA                        NA            2                   \n",
       "13 NA                        NA           NA                   \n",
       "14 12                        21           39                   \n",
       "   0.5_Near Equivalent 0.5_Trivially Equivalent 0.5_Unknown\n",
       "1   3                  12                        5         \n",
       "2  NA                   6                        3         \n",
       "3  NA                  NA                       NA         \n",
       "4   3                   3                        5         \n",
       "5   2                  NA                       NA         \n",
       "6   4                   1                        4         \n",
       "7  NA                   1                        1         \n",
       "8  NA                   3                        1         \n",
       "9  NA                   3                        2         \n",
       "10  9                  10                        4         \n",
       "11 NA                  NA                        2         \n",
       "12  2                   1                        1         \n",
       "13 NA                  NA                       NA         \n",
       "14 23                  40                       28         \n",
       "   1.0_Behavioral Change 1.0_Near Equivalent 1.0_Trivially Equivalent\n",
       "1  16                     2                  13                      \n",
       "2   3                     6                   3                      \n",
       "3   4                    NA                   1                      \n",
       "4   9                     3                   3                      \n",
       "5   4                     2                   1                      \n",
       "6   1                     1                   2                      \n",
       "7  NA                    NA                   3                      \n",
       "8   1                    NA                   3                      \n",
       "9   3                    NA                   8                      \n",
       "10  3                     5                   3                      \n",
       "11  1                     1                  NA                      \n",
       "12  3                     2                   8                      \n",
       "13 NA                    NA                  NA                      \n",
       "14 48                    22                  48                      \n",
       "   1.0_Unknown\n",
       "1   7         \n",
       "2   5         \n",
       "3   1         \n",
       "4   5         \n",
       "5   1         \n",
       "6   2         \n",
       "7  NA         \n",
       "8  NA         \n",
       "9   1         \n",
       "10  3         \n",
       "11  3         \n",
       "12  3         \n",
       "13 NA         \n",
       "14 31         "
      ]
     },
     "metadata": {},
     "output_type": "display_data"
    }
   ],
   "source": [
    "otherTemps %>% group_by(project, temperature, coding) %>% summarize(n=n()) %>% pivot_wider(names_from=c(\"temperature\",\"coding\"), values_from=n) %>% adorn_totals(\"row\")"
   ]
  },
  {
   "cell_type": "code",
   "execution_count": null,
   "metadata": {
    "vscode": {
     "languageId": "r"
    }
   },
   "outputs": [],
   "source": []
  },
  {
   "cell_type": "code",
   "execution_count": null,
   "metadata": {
    "vscode": {
     "languageId": "r"
    }
   },
   "outputs": [],
   "source": []
  }
 ],
 "metadata": {
  "kernelspec": {
   "display_name": "R",
   "language": "R",
   "name": "ir"
  },
  "language_info": {
   "codemirror_mode": "r",
   "file_extension": ".r",
   "mimetype": "text/x-r-source",
   "name": "R",
   "pygments_lexer": "r",
   "version": "4.3.2"
  }
 },
 "nbformat": 4,
 "nbformat_minor": 2
}
